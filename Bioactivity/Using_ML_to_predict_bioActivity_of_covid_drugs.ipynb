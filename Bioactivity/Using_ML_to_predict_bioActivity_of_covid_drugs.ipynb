{
  "nbformat": 4,
  "nbformat_minor": 0,
  "metadata": {
    "colab": {
      "name": "project1",
      "provenance": [],
      "collapsed_sections": [],
      "toc_visible": true
    },
    "kernelspec": {
      "name": "python3",
      "display_name": "Python 3"
    }
  },
  "cells": [
    {
      "cell_type": "markdown",
      "metadata": {
        "id": "Ocb7ilW_5aZ4"
      },
      "source": [
        "## Using ML to Predict Bioactivity of Drugs\n",
        "\n",
        "**Analysis for coronavirus drug data retrieved from [*ChEMBL Database*](https://www.ebi.ac.uk/chembl/)**\n",
        "\n",
        "Submitted by\n",
        "\n",
        "- Kuldeep Singh 16235\n"
      ]
    },
    {
      "cell_type": "markdown",
      "metadata": {
        "id": "rKLAnGuo5g-x"
      },
      "source": [
        "### Installing library which will be used to retreive data"
      ]
    },
    {
      "cell_type": "code",
      "metadata": {
        "id": "AKdqWvGe5UaS",
        "outputId": "43de7ef4-acd8-4c57-ea50-1d466a14cc78",
        "colab": {
          "base_uri": "https://localhost:8080/",
          "height": 364
        }
      },
      "source": [
        "try:\n",
        "    import chembl_webresource_client\n",
        "    from chembl_webresource_client.new_client import new_client\n",
        "except:\n",
        "    !pip install chembl_webresource_client\n",
        "    import chembl_webresource_client\n",
        "    from chembl_webresource_client.new_client import new_client"
      ],
      "execution_count": 3,
      "outputs": [
        {
          "output_type": "stream",
          "text": [
            "Collecting chembl_webresource_client\n",
            "\u001b[?25l  Downloading https://files.pythonhosted.org/packages/2e/48/0db29040c92726fcc6f99a5bc89e0ea8cf5a9d84753ebaaf53108792da2a/chembl-webresource-client-0.10.2.tar.gz (51kB)\n",
            "\r\u001b[K     |██████▍                         | 10kB 16.2MB/s eta 0:00:01\r\u001b[K     |████████████▊                   | 20kB 2.1MB/s eta 0:00:01\r\u001b[K     |███████████████████             | 30kB 2.6MB/s eta 0:00:01\r\u001b[K     |█████████████████████████▍      | 40kB 2.7MB/s eta 0:00:01\r\u001b[K     |███████████████████████████████▊| 51kB 2.3MB/s eta 0:00:01\r\u001b[K     |████████████████████████████████| 61kB 2.1MB/s \n",
            "\u001b[?25hRequirement already satisfied: urllib3 in /usr/local/lib/python3.6/dist-packages (from chembl_webresource_client) (1.24.3)\n",
            "Requirement already satisfied: requests>=2.18.4 in /usr/local/lib/python3.6/dist-packages (from chembl_webresource_client) (2.23.0)\n",
            "Collecting requests-cache>=0.4.7\n",
            "  Downloading https://files.pythonhosted.org/packages/7f/55/9b1c40eb83c16d8fc79c5f6c2ffade04208b080670fbfc35e0a5effb5a92/requests_cache-0.5.2-py2.py3-none-any.whl\n",
            "Requirement already satisfied: easydict in /usr/local/lib/python3.6/dist-packages (from chembl_webresource_client) (1.9)\n",
            "Requirement already satisfied: certifi>=2017.4.17 in /usr/local/lib/python3.6/dist-packages (from requests>=2.18.4->chembl_webresource_client) (2020.6.20)\n",
            "Requirement already satisfied: chardet<4,>=3.0.2 in /usr/local/lib/python3.6/dist-packages (from requests>=2.18.4->chembl_webresource_client) (3.0.4)\n",
            "Requirement already satisfied: idna<3,>=2.5 in /usr/local/lib/python3.6/dist-packages (from requests>=2.18.4->chembl_webresource_client) (2.10)\n",
            "Building wheels for collected packages: chembl-webresource-client\n",
            "  Building wheel for chembl-webresource-client (setup.py) ... \u001b[?25l\u001b[?25hdone\n",
            "  Created wheel for chembl-webresource-client: filename=chembl_webresource_client-0.10.2-cp36-none-any.whl size=55662 sha256=fbd53bd2c3130c8e3277137ccf54f91f7e8339377be6162600edca2552360c29\n",
            "  Stored in directory: /root/.cache/pip/wheels/e6/96/19/3f042bfda7c669bfe24c8278477f57b0fbbf3e488b4c09e3a8\n",
            "Successfully built chembl-webresource-client\n",
            "Installing collected packages: requests-cache, chembl-webresource-client\n",
            "Successfully installed chembl-webresource-client-0.10.2 requests-cache-0.5.2\n"
          ],
          "name": "stdout"
        }
      ]
    },
    {
      "cell_type": "code",
      "metadata": {
        "id": "GKreD_XP5UXF"
      },
      "source": [
        "import pandas as pd"
      ],
      "execution_count": 4,
      "outputs": []
    },
    {
      "cell_type": "markdown",
      "metadata": {
        "id": "EfoHySqr5s6g"
      },
      "source": [
        "#### retrieving target based data"
      ]
    },
    {
      "cell_type": "code",
      "metadata": {
        "id": "PeK4DchQ5UVw",
        "outputId": "86c7a9d1-204f-4bec-fa93-63d7d6e18180",
        "colab": {
          "base_uri": "https://localhost:8080/",
          "height": 495
        }
      },
      "source": [
        "target = new_client.target\n",
        "target_query = target.search('coronavirus')\n",
        "targets = pd.DataFrame.from_dict(target_query)\n",
        "targets"
      ],
      "execution_count": 5,
      "outputs": [
        {
          "output_type": "execute_result",
          "data": {
            "text/html": [
              "<div>\n",
              "<style scoped>\n",
              "    .dataframe tbody tr th:only-of-type {\n",
              "        vertical-align: middle;\n",
              "    }\n",
              "\n",
              "    .dataframe tbody tr th {\n",
              "        vertical-align: top;\n",
              "    }\n",
              "\n",
              "    .dataframe thead th {\n",
              "        text-align: right;\n",
              "    }\n",
              "</style>\n",
              "<table border=\"1\" class=\"dataframe\">\n",
              "  <thead>\n",
              "    <tr style=\"text-align: right;\">\n",
              "      <th></th>\n",
              "      <th>cross_references</th>\n",
              "      <th>organism</th>\n",
              "      <th>pref_name</th>\n",
              "      <th>score</th>\n",
              "      <th>species_group_flag</th>\n",
              "      <th>target_chembl_id</th>\n",
              "      <th>target_components</th>\n",
              "      <th>target_type</th>\n",
              "      <th>tax_id</th>\n",
              "    </tr>\n",
              "  </thead>\n",
              "  <tbody>\n",
              "    <tr>\n",
              "      <th>0</th>\n",
              "      <td>[]</td>\n",
              "      <td>Coronavirus</td>\n",
              "      <td>Coronavirus</td>\n",
              "      <td>17.0</td>\n",
              "      <td>False</td>\n",
              "      <td>CHEMBL613732</td>\n",
              "      <td>[]</td>\n",
              "      <td>ORGANISM</td>\n",
              "      <td>11119</td>\n",
              "    </tr>\n",
              "    <tr>\n",
              "      <th>1</th>\n",
              "      <td>[]</td>\n",
              "      <td>SARS coronavirus</td>\n",
              "      <td>SARS coronavirus</td>\n",
              "      <td>14.0</td>\n",
              "      <td>False</td>\n",
              "      <td>CHEMBL612575</td>\n",
              "      <td>[]</td>\n",
              "      <td>ORGANISM</td>\n",
              "      <td>227859</td>\n",
              "    </tr>\n",
              "    <tr>\n",
              "      <th>2</th>\n",
              "      <td>[]</td>\n",
              "      <td>Feline coronavirus</td>\n",
              "      <td>Feline coronavirus</td>\n",
              "      <td>14.0</td>\n",
              "      <td>False</td>\n",
              "      <td>CHEMBL612744</td>\n",
              "      <td>[]</td>\n",
              "      <td>ORGANISM</td>\n",
              "      <td>12663</td>\n",
              "    </tr>\n",
              "    <tr>\n",
              "      <th>3</th>\n",
              "      <td>[]</td>\n",
              "      <td>Human coronavirus 229E</td>\n",
              "      <td>Human coronavirus 229E</td>\n",
              "      <td>13.0</td>\n",
              "      <td>False</td>\n",
              "      <td>CHEMBL613837</td>\n",
              "      <td>[]</td>\n",
              "      <td>ORGANISM</td>\n",
              "      <td>11137</td>\n",
              "    </tr>\n",
              "    <tr>\n",
              "      <th>4</th>\n",
              "      <td>[{'xref_id': 'P0C6U8', 'xref_name': None, 'xre...</td>\n",
              "      <td>SARS coronavirus</td>\n",
              "      <td>SARS coronavirus 3C-like proteinase</td>\n",
              "      <td>10.0</td>\n",
              "      <td>False</td>\n",
              "      <td>CHEMBL3927</td>\n",
              "      <td>[{'accession': 'P0C6U8', 'component_descriptio...</td>\n",
              "      <td>SINGLE PROTEIN</td>\n",
              "      <td>227859</td>\n",
              "    </tr>\n",
              "    <tr>\n",
              "      <th>5</th>\n",
              "      <td>[]</td>\n",
              "      <td>Middle East respiratory syndrome-related coron...</td>\n",
              "      <td>Middle East respiratory syndrome-related coron...</td>\n",
              "      <td>9.0</td>\n",
              "      <td>False</td>\n",
              "      <td>CHEMBL4296578</td>\n",
              "      <td>[]</td>\n",
              "      <td>ORGANISM</td>\n",
              "      <td>1335626</td>\n",
              "    </tr>\n",
              "    <tr>\n",
              "      <th>6</th>\n",
              "      <td>[{'xref_id': 'P0C6X7', 'xref_name': None, 'xre...</td>\n",
              "      <td>SARS coronavirus</td>\n",
              "      <td>Replicase polyprotein 1ab</td>\n",
              "      <td>5.0</td>\n",
              "      <td>False</td>\n",
              "      <td>CHEMBL5118</td>\n",
              "      <td>[{'accession': 'P0C6X7', 'component_descriptio...</td>\n",
              "      <td>SINGLE PROTEIN</td>\n",
              "      <td>227859</td>\n",
              "    </tr>\n",
              "  </tbody>\n",
              "</table>\n",
              "</div>"
            ],
            "text/plain": [
              "                                    cross_references  ...   tax_id\n",
              "0                                                 []  ...    11119\n",
              "1                                                 []  ...   227859\n",
              "2                                                 []  ...    12663\n",
              "3                                                 []  ...    11137\n",
              "4  [{'xref_id': 'P0C6U8', 'xref_name': None, 'xre...  ...   227859\n",
              "5                                                 []  ...  1335626\n",
              "6  [{'xref_id': 'P0C6X7', 'xref_name': None, 'xre...  ...   227859\n",
              "\n",
              "[7 rows x 9 columns]"
            ]
          },
          "metadata": {
            "tags": []
          },
          "execution_count": 5
        }
      ]
    },
    {
      "cell_type": "markdown",
      "metadata": {
        "id": "CFAgXJtl58F6"
      },
      "source": [
        "### Will be using *SARS coronavirus 3C-like proteinase* Bioactivity Data"
      ]
    },
    {
      "cell_type": "code",
      "metadata": {
        "id": "cY904cZJ5UUS",
        "outputId": "d55e08a5-554d-4aa9-c17c-edb835554b0d",
        "colab": {
          "base_uri": "https://localhost:8080/",
          "height": 36
        }
      },
      "source": [
        "selected_target = targets.target_chembl_id[4]\n",
        "selected_target"
      ],
      "execution_count": 6,
      "outputs": [
        {
          "output_type": "execute_result",
          "data": {
            "application/vnd.google.colaboratory.intrinsic+json": {
              "type": "string"
            },
            "text/plain": [
              "'CHEMBL3927'"
            ]
          },
          "metadata": {
            "tags": []
          },
          "execution_count": 6
        }
      ]
    },
    {
      "cell_type": "code",
      "metadata": {
        "id": "UA7SuLQX5UR0"
      },
      "source": [
        "activity = new_client.activity\n",
        "res = activity.filter(target_chembl_id=selected_target).filter(standard_type=\"IC50\")"
      ],
      "execution_count": 7,
      "outputs": []
    },
    {
      "cell_type": "code",
      "metadata": {
        "id": "wl7P7YRD5UPx",
        "outputId": "067807a1-6bf4-4727-88d7-3adf8a082f40",
        "colab": {
          "base_uri": "https://localhost:8080/",
          "height": 253
        }
      },
      "source": [
        "data = pd.DataFrame.from_dict(res)\n",
        "data.columns"
      ],
      "execution_count": 8,
      "outputs": [
        {
          "output_type": "execute_result",
          "data": {
            "text/plain": [
              "Index(['activity_comment', 'activity_id', 'activity_properties',\n",
              "       'assay_chembl_id', 'assay_description', 'assay_type', 'bao_endpoint',\n",
              "       'bao_format', 'bao_label', 'canonical_smiles', 'data_validity_comment',\n",
              "       'data_validity_description', 'document_chembl_id', 'document_journal',\n",
              "       'document_year', 'ligand_efficiency', 'molecule_chembl_id',\n",
              "       'molecule_pref_name', 'parent_molecule_chembl_id', 'pchembl_value',\n",
              "       'potential_duplicate', 'qudt_units', 'record_id', 'relation', 'src_id',\n",
              "       'standard_flag', 'standard_relation', 'standard_text_value',\n",
              "       'standard_type', 'standard_units', 'standard_upper_value',\n",
              "       'standard_value', 'target_chembl_id', 'target_organism',\n",
              "       'target_pref_name', 'target_tax_id', 'text_value', 'toid', 'type',\n",
              "       'units', 'uo_units', 'upper_value', 'value'],\n",
              "      dtype='object')"
            ]
          },
          "metadata": {
            "tags": []
          },
          "execution_count": 8
        }
      ]
    },
    {
      "cell_type": "code",
      "metadata": {
        "id": "KjUBe4LK5UOT",
        "outputId": "6649b31f-26ac-4cfa-cddc-462b2d26bd1d",
        "colab": {
          "base_uri": "https://localhost:8080/",
          "height": 400
        }
      },
      "source": [
        "data.head()"
      ],
      "execution_count": 9,
      "outputs": [
        {
          "output_type": "execute_result",
          "data": {
            "text/html": [
              "<div>\n",
              "<style scoped>\n",
              "    .dataframe tbody tr th:only-of-type {\n",
              "        vertical-align: middle;\n",
              "    }\n",
              "\n",
              "    .dataframe tbody tr th {\n",
              "        vertical-align: top;\n",
              "    }\n",
              "\n",
              "    .dataframe thead th {\n",
              "        text-align: right;\n",
              "    }\n",
              "</style>\n",
              "<table border=\"1\" class=\"dataframe\">\n",
              "  <thead>\n",
              "    <tr style=\"text-align: right;\">\n",
              "      <th></th>\n",
              "      <th>activity_comment</th>\n",
              "      <th>activity_id</th>\n",
              "      <th>activity_properties</th>\n",
              "      <th>assay_chembl_id</th>\n",
              "      <th>assay_description</th>\n",
              "      <th>assay_type</th>\n",
              "      <th>bao_endpoint</th>\n",
              "      <th>bao_format</th>\n",
              "      <th>bao_label</th>\n",
              "      <th>canonical_smiles</th>\n",
              "      <th>data_validity_comment</th>\n",
              "      <th>data_validity_description</th>\n",
              "      <th>document_chembl_id</th>\n",
              "      <th>document_journal</th>\n",
              "      <th>document_year</th>\n",
              "      <th>ligand_efficiency</th>\n",
              "      <th>molecule_chembl_id</th>\n",
              "      <th>molecule_pref_name</th>\n",
              "      <th>parent_molecule_chembl_id</th>\n",
              "      <th>pchembl_value</th>\n",
              "      <th>potential_duplicate</th>\n",
              "      <th>qudt_units</th>\n",
              "      <th>record_id</th>\n",
              "      <th>relation</th>\n",
              "      <th>src_id</th>\n",
              "      <th>standard_flag</th>\n",
              "      <th>standard_relation</th>\n",
              "      <th>standard_text_value</th>\n",
              "      <th>standard_type</th>\n",
              "      <th>standard_units</th>\n",
              "      <th>standard_upper_value</th>\n",
              "      <th>standard_value</th>\n",
              "      <th>target_chembl_id</th>\n",
              "      <th>target_organism</th>\n",
              "      <th>target_pref_name</th>\n",
              "      <th>target_tax_id</th>\n",
              "      <th>text_value</th>\n",
              "      <th>toid</th>\n",
              "      <th>type</th>\n",
              "      <th>units</th>\n",
              "      <th>uo_units</th>\n",
              "      <th>upper_value</th>\n",
              "      <th>value</th>\n",
              "    </tr>\n",
              "  </thead>\n",
              "  <tbody>\n",
              "    <tr>\n",
              "      <th>0</th>\n",
              "      <td>None</td>\n",
              "      <td>1480935</td>\n",
              "      <td>[]</td>\n",
              "      <td>CHEMBL829584</td>\n",
              "      <td>In vitro inhibitory concentration against SARS...</td>\n",
              "      <td>B</td>\n",
              "      <td>BAO_0000190</td>\n",
              "      <td>BAO_0000357</td>\n",
              "      <td>single protein format</td>\n",
              "      <td>Cc1noc(C)c1CN1C(=O)C(=O)c2cc(C#N)ccc21</td>\n",
              "      <td>None</td>\n",
              "      <td>None</td>\n",
              "      <td>CHEMBL1139624</td>\n",
              "      <td>Bioorg. Med. Chem. Lett.</td>\n",
              "      <td>2005</td>\n",
              "      <td>{'bei': '18.28', 'le': '0.33', 'lle': '3.25', ...</td>\n",
              "      <td>CHEMBL187579</td>\n",
              "      <td>None</td>\n",
              "      <td>CHEMBL187579</td>\n",
              "      <td>5.14</td>\n",
              "      <td>False</td>\n",
              "      <td>http://www.openphacts.org/units/Nanomolar</td>\n",
              "      <td>384103</td>\n",
              "      <td>=</td>\n",
              "      <td>1</td>\n",
              "      <td>True</td>\n",
              "      <td>=</td>\n",
              "      <td>None</td>\n",
              "      <td>IC50</td>\n",
              "      <td>nM</td>\n",
              "      <td>None</td>\n",
              "      <td>7200.0</td>\n",
              "      <td>CHEMBL3927</td>\n",
              "      <td>SARS coronavirus</td>\n",
              "      <td>SARS coronavirus 3C-like proteinase</td>\n",
              "      <td>227859</td>\n",
              "      <td>None</td>\n",
              "      <td>None</td>\n",
              "      <td>IC50</td>\n",
              "      <td>uM</td>\n",
              "      <td>UO_0000065</td>\n",
              "      <td>None</td>\n",
              "      <td>7.2</td>\n",
              "    </tr>\n",
              "    <tr>\n",
              "      <th>1</th>\n",
              "      <td>None</td>\n",
              "      <td>1480936</td>\n",
              "      <td>[]</td>\n",
              "      <td>CHEMBL829584</td>\n",
              "      <td>In vitro inhibitory concentration against SARS...</td>\n",
              "      <td>B</td>\n",
              "      <td>BAO_0000190</td>\n",
              "      <td>BAO_0000357</td>\n",
              "      <td>single protein format</td>\n",
              "      <td>O=C1C(=O)N(Cc2ccc(F)cc2Cl)c2ccc(I)cc21</td>\n",
              "      <td>None</td>\n",
              "      <td>None</td>\n",
              "      <td>CHEMBL1139624</td>\n",
              "      <td>Bioorg. Med. Chem. Lett.</td>\n",
              "      <td>2005</td>\n",
              "      <td>{'bei': '12.10', 'le': '0.33', 'lle': '1.22', ...</td>\n",
              "      <td>CHEMBL188487</td>\n",
              "      <td>None</td>\n",
              "      <td>CHEMBL188487</td>\n",
              "      <td>5.03</td>\n",
              "      <td>False</td>\n",
              "      <td>http://www.openphacts.org/units/Nanomolar</td>\n",
              "      <td>383984</td>\n",
              "      <td>=</td>\n",
              "      <td>1</td>\n",
              "      <td>True</td>\n",
              "      <td>=</td>\n",
              "      <td>None</td>\n",
              "      <td>IC50</td>\n",
              "      <td>nM</td>\n",
              "      <td>None</td>\n",
              "      <td>9400.0</td>\n",
              "      <td>CHEMBL3927</td>\n",
              "      <td>SARS coronavirus</td>\n",
              "      <td>SARS coronavirus 3C-like proteinase</td>\n",
              "      <td>227859</td>\n",
              "      <td>None</td>\n",
              "      <td>None</td>\n",
              "      <td>IC50</td>\n",
              "      <td>uM</td>\n",
              "      <td>UO_0000065</td>\n",
              "      <td>None</td>\n",
              "      <td>9.4</td>\n",
              "    </tr>\n",
              "    <tr>\n",
              "      <th>2</th>\n",
              "      <td>None</td>\n",
              "      <td>1481061</td>\n",
              "      <td>[]</td>\n",
              "      <td>CHEMBL830868</td>\n",
              "      <td>In vitro inhibitory concentration against SARS...</td>\n",
              "      <td>B</td>\n",
              "      <td>BAO_0000190</td>\n",
              "      <td>BAO_0000357</td>\n",
              "      <td>single protein format</td>\n",
              "      <td>O=C1C(=O)N(CC2COc3ccccc3O2)c2ccc(I)cc21</td>\n",
              "      <td>None</td>\n",
              "      <td>None</td>\n",
              "      <td>CHEMBL1139624</td>\n",
              "      <td>Bioorg. Med. Chem. Lett.</td>\n",
              "      <td>2005</td>\n",
              "      <td>{'bei': '11.56', 'le': '0.29', 'lle': '2.21', ...</td>\n",
              "      <td>CHEMBL185698</td>\n",
              "      <td>None</td>\n",
              "      <td>CHEMBL185698</td>\n",
              "      <td>4.87</td>\n",
              "      <td>False</td>\n",
              "      <td>http://www.openphacts.org/units/Nanomolar</td>\n",
              "      <td>384106</td>\n",
              "      <td>=</td>\n",
              "      <td>1</td>\n",
              "      <td>True</td>\n",
              "      <td>=</td>\n",
              "      <td>None</td>\n",
              "      <td>IC50</td>\n",
              "      <td>nM</td>\n",
              "      <td>None</td>\n",
              "      <td>13500.0</td>\n",
              "      <td>CHEMBL3927</td>\n",
              "      <td>SARS coronavirus</td>\n",
              "      <td>SARS coronavirus 3C-like proteinase</td>\n",
              "      <td>227859</td>\n",
              "      <td>None</td>\n",
              "      <td>None</td>\n",
              "      <td>IC50</td>\n",
              "      <td>uM</td>\n",
              "      <td>UO_0000065</td>\n",
              "      <td>None</td>\n",
              "      <td>13.5</td>\n",
              "    </tr>\n",
              "    <tr>\n",
              "      <th>3</th>\n",
              "      <td>None</td>\n",
              "      <td>1481065</td>\n",
              "      <td>[]</td>\n",
              "      <td>CHEMBL829584</td>\n",
              "      <td>In vitro inhibitory concentration against SARS...</td>\n",
              "      <td>B</td>\n",
              "      <td>BAO_0000190</td>\n",
              "      <td>BAO_0000357</td>\n",
              "      <td>single protein format</td>\n",
              "      <td>O=C1C(=O)N(Cc2cc3ccccc3s2)c2ccccc21</td>\n",
              "      <td>None</td>\n",
              "      <td>None</td>\n",
              "      <td>CHEMBL1139624</td>\n",
              "      <td>Bioorg. Med. Chem. Lett.</td>\n",
              "      <td>2005</td>\n",
              "      <td>{'bei': '16.64', 'le': '0.32', 'lle': '1.25', ...</td>\n",
              "      <td>CHEMBL426082</td>\n",
              "      <td>None</td>\n",
              "      <td>CHEMBL426082</td>\n",
              "      <td>4.88</td>\n",
              "      <td>False</td>\n",
              "      <td>http://www.openphacts.org/units/Nanomolar</td>\n",
              "      <td>384075</td>\n",
              "      <td>=</td>\n",
              "      <td>1</td>\n",
              "      <td>True</td>\n",
              "      <td>=</td>\n",
              "      <td>None</td>\n",
              "      <td>IC50</td>\n",
              "      <td>nM</td>\n",
              "      <td>None</td>\n",
              "      <td>13110.0</td>\n",
              "      <td>CHEMBL3927</td>\n",
              "      <td>SARS coronavirus</td>\n",
              "      <td>SARS coronavirus 3C-like proteinase</td>\n",
              "      <td>227859</td>\n",
              "      <td>None</td>\n",
              "      <td>None</td>\n",
              "      <td>IC50</td>\n",
              "      <td>uM</td>\n",
              "      <td>UO_0000065</td>\n",
              "      <td>None</td>\n",
              "      <td>13.11</td>\n",
              "    </tr>\n",
              "    <tr>\n",
              "      <th>4</th>\n",
              "      <td>None</td>\n",
              "      <td>1481066</td>\n",
              "      <td>[]</td>\n",
              "      <td>CHEMBL829584</td>\n",
              "      <td>In vitro inhibitory concentration against SARS...</td>\n",
              "      <td>B</td>\n",
              "      <td>BAO_0000190</td>\n",
              "      <td>BAO_0000357</td>\n",
              "      <td>single protein format</td>\n",
              "      <td>O=C1C(=O)N(Cc2cc3ccccc3s2)c2c1cccc2[N+](=O)[O-]</td>\n",
              "      <td>None</td>\n",
              "      <td>None</td>\n",
              "      <td>CHEMBL1139624</td>\n",
              "      <td>Bioorg. Med. Chem. Lett.</td>\n",
              "      <td>2005</td>\n",
              "      <td>{'bei': '16.84', 'le': '0.32', 'lle': '2.16', ...</td>\n",
              "      <td>CHEMBL187717</td>\n",
              "      <td>None</td>\n",
              "      <td>CHEMBL187717</td>\n",
              "      <td>5.70</td>\n",
              "      <td>False</td>\n",
              "      <td>http://www.openphacts.org/units/Nanomolar</td>\n",
              "      <td>384234</td>\n",
              "      <td>=</td>\n",
              "      <td>1</td>\n",
              "      <td>True</td>\n",
              "      <td>=</td>\n",
              "      <td>None</td>\n",
              "      <td>IC50</td>\n",
              "      <td>nM</td>\n",
              "      <td>None</td>\n",
              "      <td>2000.0</td>\n",
              "      <td>CHEMBL3927</td>\n",
              "      <td>SARS coronavirus</td>\n",
              "      <td>SARS coronavirus 3C-like proteinase</td>\n",
              "      <td>227859</td>\n",
              "      <td>None</td>\n",
              "      <td>None</td>\n",
              "      <td>IC50</td>\n",
              "      <td>uM</td>\n",
              "      <td>UO_0000065</td>\n",
              "      <td>None</td>\n",
              "      <td>2.0</td>\n",
              "    </tr>\n",
              "  </tbody>\n",
              "</table>\n",
              "</div>"
            ],
            "text/plain": [
              "  activity_comment  activity_id  ... upper_value  value\n",
              "0             None      1480935  ...        None    7.2\n",
              "1             None      1480936  ...        None    9.4\n",
              "2             None      1481061  ...        None   13.5\n",
              "3             None      1481065  ...        None  13.11\n",
              "4             None      1481066  ...        None    2.0\n",
              "\n",
              "[5 rows x 43 columns]"
            ]
          },
          "metadata": {
            "tags": []
          },
          "execution_count": 9
        }
      ]
    },
    {
      "cell_type": "code",
      "metadata": {
        "id": "xmKozKoT5ULn",
        "outputId": "e1588074-5f01-4120-e84f-aabf9729b636",
        "colab": {
          "base_uri": "https://localhost:8080/",
          "height": 35
        }
      },
      "source": [
        "data_1 = data[data.standard_value.notna()] #removing unavailable data\n",
        "data.shape"
      ],
      "execution_count": 10,
      "outputs": [
        {
          "output_type": "execute_result",
          "data": {
            "text/plain": [
              "(133, 43)"
            ]
          },
          "metadata": {
            "tags": []
          },
          "execution_count": 10
        }
      ]
    },
    {
      "cell_type": "markdown",
      "metadata": {
        "id": "Pr1QbiJU6La-"
      },
      "source": [
        "## Preprocesssing"
      ]
    },
    {
      "cell_type": "markdown",
      "metadata": {
        "id": "XKx_NYJX6Mnw"
      },
      "source": [
        "### **Labeling compounds as either being active, inactive or intermediate**\n",
        "The bioactivity data is in the IC50 unit. Compounds having values of less than 1000 nM will be considered to be **active** while those greater than 10,000 nM will be considered to be **inactive**. As for those values in between 1,000 and 10,000 nM will be referred to as **intermediate**."
      ]
    },
    {
      "cell_type": "code",
      "metadata": {
        "id": "yUIU5dF85UJv"
      },
      "source": [
        "bioactivity_class = []\n",
        "for i in data_1.standard_value:\n",
        "  if float(i) >= 10000:\n",
        "    bioactivity_class.append(\"inactive\")\n",
        "  elif float(i) <= 1000:\n",
        "    bioactivity_class.append(\"active\")\n",
        "  else:\n",
        "    bioactivity_class.append(\"intermediate\")"
      ],
      "execution_count": 11,
      "outputs": []
    },
    {
      "cell_type": "code",
      "metadata": {
        "id": "WQ8KkLrS5UIH",
        "outputId": "390dc8a3-4a47-421c-cc84-aeb4b52ac117",
        "colab": {
          "base_uri": "https://localhost:8080/",
          "height": 206
        }
      },
      "source": [
        "# USING ONLY RELEVANT COLUMNS TO US\n",
        "selection = ['molecule_chembl_id', 'canonical_smiles', 'standard_value']\n",
        "data_2 = data_1[selection]\n",
        "data_3 = pd.concat([data_2,pd.Series(bioactivity_class)], axis=1)\n",
        "data_3.rename(columns={0:'Bio_class'},inplace=True)\n",
        "data_3.head()"
      ],
      "execution_count": 12,
      "outputs": [
        {
          "output_type": "execute_result",
          "data": {
            "text/html": [
              "<div>\n",
              "<style scoped>\n",
              "    .dataframe tbody tr th:only-of-type {\n",
              "        vertical-align: middle;\n",
              "    }\n",
              "\n",
              "    .dataframe tbody tr th {\n",
              "        vertical-align: top;\n",
              "    }\n",
              "\n",
              "    .dataframe thead th {\n",
              "        text-align: right;\n",
              "    }\n",
              "</style>\n",
              "<table border=\"1\" class=\"dataframe\">\n",
              "  <thead>\n",
              "    <tr style=\"text-align: right;\">\n",
              "      <th></th>\n",
              "      <th>molecule_chembl_id</th>\n",
              "      <th>canonical_smiles</th>\n",
              "      <th>standard_value</th>\n",
              "      <th>Bio_class</th>\n",
              "    </tr>\n",
              "  </thead>\n",
              "  <tbody>\n",
              "    <tr>\n",
              "      <th>0</th>\n",
              "      <td>CHEMBL187579</td>\n",
              "      <td>Cc1noc(C)c1CN1C(=O)C(=O)c2cc(C#N)ccc21</td>\n",
              "      <td>7200.0</td>\n",
              "      <td>intermediate</td>\n",
              "    </tr>\n",
              "    <tr>\n",
              "      <th>1</th>\n",
              "      <td>CHEMBL188487</td>\n",
              "      <td>O=C1C(=O)N(Cc2ccc(F)cc2Cl)c2ccc(I)cc21</td>\n",
              "      <td>9400.0</td>\n",
              "      <td>intermediate</td>\n",
              "    </tr>\n",
              "    <tr>\n",
              "      <th>2</th>\n",
              "      <td>CHEMBL185698</td>\n",
              "      <td>O=C1C(=O)N(CC2COc3ccccc3O2)c2ccc(I)cc21</td>\n",
              "      <td>13500.0</td>\n",
              "      <td>inactive</td>\n",
              "    </tr>\n",
              "    <tr>\n",
              "      <th>3</th>\n",
              "      <td>CHEMBL426082</td>\n",
              "      <td>O=C1C(=O)N(Cc2cc3ccccc3s2)c2ccccc21</td>\n",
              "      <td>13110.0</td>\n",
              "      <td>inactive</td>\n",
              "    </tr>\n",
              "    <tr>\n",
              "      <th>4</th>\n",
              "      <td>CHEMBL187717</td>\n",
              "      <td>O=C1C(=O)N(Cc2cc3ccccc3s2)c2c1cccc2[N+](=O)[O-]</td>\n",
              "      <td>2000.0</td>\n",
              "      <td>intermediate</td>\n",
              "    </tr>\n",
              "  </tbody>\n",
              "</table>\n",
              "</div>"
            ],
            "text/plain": [
              "  molecule_chembl_id  ...     Bio_class\n",
              "0       CHEMBL187579  ...  intermediate\n",
              "1       CHEMBL188487  ...  intermediate\n",
              "2       CHEMBL185698  ...      inactive\n",
              "3       CHEMBL426082  ...      inactive\n",
              "4       CHEMBL187717  ...  intermediate\n",
              "\n",
              "[5 rows x 4 columns]"
            ]
          },
          "metadata": {
            "tags": []
          },
          "execution_count": 12
        }
      ]
    },
    {
      "cell_type": "markdown",
      "metadata": {
        "id": "1JfeS-wQ6Z_e"
      },
      "source": [
        "### Downloading other Liberaries to create descriptors for Data analysis"
      ]
    },
    {
      "cell_type": "code",
      "metadata": {
        "id": "zV-QchsNsOLb"
      },
      "source": [
        "# uncomment this if You are running in colab. It is for rdkit installation on google colab.\n",
        "#! wget https://repo.anaconda.com/miniconda/Miniconda3-py37_4.8.2-Linux-x86_64.sh\n",
        "#! chmod +x Miniconda3-py37_4.8.2-Linux-x86_64.sh\n",
        "#! bash ./Miniconda3-py37_4.8.2-Linux-x86_64.sh -b -f -p /usr/local\n",
        "#! conda install -c rdkit rdkit -y\n",
        "#import sys\n",
        "#sys.path.append('/usr/local/lib/python3.7/site-packages/')"
      ],
      "execution_count": 17,
      "outputs": []
    },
    {
      "cell_type": "code",
      "metadata": {
        "id": "NnGJpL-0tZSx"
      },
      "source": [
        "# This was to check whether we have desired csv present in directory or not.\n",
        "#import os\n",
        "#os.getcwd()\n",
        "#os.chdir('Colab Notebooks')\n",
        "#os.listdir()"
      ],
      "execution_count": 22,
      "outputs": []
    },
    {
      "cell_type": "code",
      "metadata": {
        "id": "gqkG3k_7tigz"
      },
      "source": [
        "import numpy as np\n",
        "from rdkit import Chem\n",
        "from rdkit.Chem import Descriptors, Lipinski"
      ],
      "execution_count": 23,
      "outputs": []
    },
    {
      "cell_type": "code",
      "metadata": {
        "id": "d9Xlq-gIvImD"
      },
      "source": [
        "# code used from dataprof \n",
        "def descriptors(smiles, verbose=False):\n",
        "\n",
        "    moldata= []\n",
        "    for elem in smiles:\n",
        "        mol=Chem.MolFromSmiles(elem) \n",
        "        moldata.append(mol)\n",
        "       \n",
        "    baseData= np.arange(1,1)\n",
        "    i=0  \n",
        "    for mol in moldata:        \n",
        "       \n",
        "        desc_MolWt = Descriptors.MolWt(mol)\n",
        "        desc_MolLogP = Descriptors.MolLogP(mol)\n",
        "        desc_NumHDonors = Lipinski.NumHDonors(mol)\n",
        "        desc_NumHAcceptors = Lipinski.NumHAcceptors(mol)\n",
        "        # other descriptors are not relatable for Bioactivity predictions, SO \n",
        "        # sticking with default 4 of these.\n",
        "\n",
        "           \n",
        "        row = np.array([desc_MolWt,\n",
        "                        desc_MolLogP,\n",
        "                        desc_NumHDonors,\n",
        "                        desc_NumHAcceptors])   \n",
        "    \n",
        "        if(i==0):\n",
        "            baseData=row\n",
        "        else:\n",
        "            baseData=np.vstack([baseData, row])\n",
        "        i=i+1      \n",
        "    \n",
        "    columnNames=[\"MW\",\"LogP\",\"NumHDonors\",\"NumHAcceptors\"]   \n",
        "    descriptors = pd.DataFrame(data=baseData,columns=columnNames)\n",
        "    \n",
        "    return descriptors"
      ],
      "execution_count": 24,
      "outputs": []
    },
    {
      "cell_type": "code",
      "metadata": {
        "id": "HaUXgrP0vLYZ",
        "outputId": "79a971c1-18b3-4f4e-fcbc-15ca4bef2f40",
        "colab": {
          "base_uri": "https://localhost:8080/",
          "height": 206
        }
      },
      "source": [
        "data_desc = descriptors(data_3.canonical_smiles)\n",
        "data_desc.head()"
      ],
      "execution_count": 25,
      "outputs": [
        {
          "output_type": "execute_result",
          "data": {
            "text/html": [
              "<div>\n",
              "<style scoped>\n",
              "    .dataframe tbody tr th:only-of-type {\n",
              "        vertical-align: middle;\n",
              "    }\n",
              "\n",
              "    .dataframe tbody tr th {\n",
              "        vertical-align: top;\n",
              "    }\n",
              "\n",
              "    .dataframe thead th {\n",
              "        text-align: right;\n",
              "    }\n",
              "</style>\n",
              "<table border=\"1\" class=\"dataframe\">\n",
              "  <thead>\n",
              "    <tr style=\"text-align: right;\">\n",
              "      <th></th>\n",
              "      <th>MW</th>\n",
              "      <th>LogP</th>\n",
              "      <th>NumHDonors</th>\n",
              "      <th>NumHAcceptors</th>\n",
              "    </tr>\n",
              "  </thead>\n",
              "  <tbody>\n",
              "    <tr>\n",
              "      <th>0</th>\n",
              "      <td>281.271</td>\n",
              "      <td>1.89262</td>\n",
              "      <td>0.0</td>\n",
              "      <td>5.0</td>\n",
              "    </tr>\n",
              "    <tr>\n",
              "      <th>1</th>\n",
              "      <td>415.589</td>\n",
              "      <td>3.81320</td>\n",
              "      <td>0.0</td>\n",
              "      <td>2.0</td>\n",
              "    </tr>\n",
              "    <tr>\n",
              "      <th>2</th>\n",
              "      <td>421.190</td>\n",
              "      <td>2.66050</td>\n",
              "      <td>0.0</td>\n",
              "      <td>4.0</td>\n",
              "    </tr>\n",
              "    <tr>\n",
              "      <th>3</th>\n",
              "      <td>293.347</td>\n",
              "      <td>3.63080</td>\n",
              "      <td>0.0</td>\n",
              "      <td>3.0</td>\n",
              "    </tr>\n",
              "    <tr>\n",
              "      <th>4</th>\n",
              "      <td>338.344</td>\n",
              "      <td>3.53900</td>\n",
              "      <td>0.0</td>\n",
              "      <td>5.0</td>\n",
              "    </tr>\n",
              "  </tbody>\n",
              "</table>\n",
              "</div>"
            ],
            "text/plain": [
              "        MW     LogP  NumHDonors  NumHAcceptors\n",
              "0  281.271  1.89262         0.0            5.0\n",
              "1  415.589  3.81320         0.0            2.0\n",
              "2  421.190  2.66050         0.0            4.0\n",
              "3  293.347  3.63080         0.0            3.0\n",
              "4  338.344  3.53900         0.0            5.0"
            ]
          },
          "metadata": {
            "tags": []
          },
          "execution_count": 25
        }
      ]
    },
    {
      "cell_type": "code",
      "metadata": {
        "id": "-_z89THuwxOZ",
        "outputId": "2e30fb29-8c36-4183-c6ff-9aa02df6d802",
        "colab": {
          "base_uri": "https://localhost:8080/",
          "height": 223
        }
      },
      "source": [
        "data_combined = pd.concat([data_3,data_desc], axis = 1)\n",
        "data_combined.head()"
      ],
      "execution_count": 27,
      "outputs": [
        {
          "output_type": "execute_result",
          "data": {
            "text/html": [
              "<div>\n",
              "<style scoped>\n",
              "    .dataframe tbody tr th:only-of-type {\n",
              "        vertical-align: middle;\n",
              "    }\n",
              "\n",
              "    .dataframe tbody tr th {\n",
              "        vertical-align: top;\n",
              "    }\n",
              "\n",
              "    .dataframe thead th {\n",
              "        text-align: right;\n",
              "    }\n",
              "</style>\n",
              "<table border=\"1\" class=\"dataframe\">\n",
              "  <thead>\n",
              "    <tr style=\"text-align: right;\">\n",
              "      <th></th>\n",
              "      <th>molecule_chembl_id</th>\n",
              "      <th>canonical_smiles</th>\n",
              "      <th>standard_value</th>\n",
              "      <th>Bio_class</th>\n",
              "      <th>MW</th>\n",
              "      <th>LogP</th>\n",
              "      <th>NumHDonors</th>\n",
              "      <th>NumHAcceptors</th>\n",
              "    </tr>\n",
              "  </thead>\n",
              "  <tbody>\n",
              "    <tr>\n",
              "      <th>0</th>\n",
              "      <td>CHEMBL187579</td>\n",
              "      <td>Cc1noc(C)c1CN1C(=O)C(=O)c2cc(C#N)ccc21</td>\n",
              "      <td>7200.0</td>\n",
              "      <td>intermediate</td>\n",
              "      <td>281.271</td>\n",
              "      <td>1.89262</td>\n",
              "      <td>0.0</td>\n",
              "      <td>5.0</td>\n",
              "    </tr>\n",
              "    <tr>\n",
              "      <th>1</th>\n",
              "      <td>CHEMBL188487</td>\n",
              "      <td>O=C1C(=O)N(Cc2ccc(F)cc2Cl)c2ccc(I)cc21</td>\n",
              "      <td>9400.0</td>\n",
              "      <td>intermediate</td>\n",
              "      <td>415.589</td>\n",
              "      <td>3.81320</td>\n",
              "      <td>0.0</td>\n",
              "      <td>2.0</td>\n",
              "    </tr>\n",
              "    <tr>\n",
              "      <th>2</th>\n",
              "      <td>CHEMBL185698</td>\n",
              "      <td>O=C1C(=O)N(CC2COc3ccccc3O2)c2ccc(I)cc21</td>\n",
              "      <td>13500.0</td>\n",
              "      <td>inactive</td>\n",
              "      <td>421.190</td>\n",
              "      <td>2.66050</td>\n",
              "      <td>0.0</td>\n",
              "      <td>4.0</td>\n",
              "    </tr>\n",
              "    <tr>\n",
              "      <th>3</th>\n",
              "      <td>CHEMBL426082</td>\n",
              "      <td>O=C1C(=O)N(Cc2cc3ccccc3s2)c2ccccc21</td>\n",
              "      <td>13110.0</td>\n",
              "      <td>inactive</td>\n",
              "      <td>293.347</td>\n",
              "      <td>3.63080</td>\n",
              "      <td>0.0</td>\n",
              "      <td>3.0</td>\n",
              "    </tr>\n",
              "    <tr>\n",
              "      <th>4</th>\n",
              "      <td>CHEMBL187717</td>\n",
              "      <td>O=C1C(=O)N(Cc2cc3ccccc3s2)c2c1cccc2[N+](=O)[O-]</td>\n",
              "      <td>2000.0</td>\n",
              "      <td>intermediate</td>\n",
              "      <td>338.344</td>\n",
              "      <td>3.53900</td>\n",
              "      <td>0.0</td>\n",
              "      <td>5.0</td>\n",
              "    </tr>\n",
              "  </tbody>\n",
              "</table>\n",
              "</div>"
            ],
            "text/plain": [
              "  molecule_chembl_id  ... NumHAcceptors\n",
              "0       CHEMBL187579  ...           5.0\n",
              "1       CHEMBL188487  ...           2.0\n",
              "2       CHEMBL185698  ...           4.0\n",
              "3       CHEMBL426082  ...           3.0\n",
              "4       CHEMBL187717  ...           5.0\n",
              "\n",
              "[5 rows x 8 columns]"
            ]
          },
          "metadata": {
            "tags": []
          },
          "execution_count": 27
        }
      ]
    },
    {
      "cell_type": "markdown",
      "metadata": {
        "id": "kTPTRxBt-LGu"
      },
      "source": [
        "### Converting standard_value IC$_{50}$ (have nM-nanoMolar unit) to Logrithmic pIC$_{50}$. "
      ]
    },
    {
      "cell_type": "code",
      "metadata": {
        "id": "TBGcKRjXw-fz",
        "outputId": "45f588e1-9457-40ea-a9eb-c953554a8c6b",
        "colab": {
          "base_uri": "https://localhost:8080/",
          "height": 181
        }
      },
      "source": [
        "data_combined['standard_value'] = data_combined['standard_value'].astype(float)\n",
        "data_combined.standard_value.describe()"
      ],
      "execution_count": 28,
      "outputs": [
        {
          "output_type": "execute_result",
          "data": {
            "text/plain": [
              "count    1.330000e+02\n",
              "mean     8.017926e+12\n",
              "std      3.344888e+13\n",
              "min      5.000000e+01\n",
              "25%      1.070000e+04\n",
              "50%      2.350000e+04\n",
              "75%      3.000000e+05\n",
              "max      3.311311e+14\n",
              "Name: standard_value, dtype: float64"
            ]
          },
          "metadata": {
            "tags": []
          },
          "execution_count": 28
        }
      ]
    },
    {
      "cell_type": "code",
      "metadata": {
        "id": "r0wLYlaZxQF2"
      },
      "source": [
        "def pIC50(input):\n",
        "    pIC50 = []\n",
        "\n",
        "    for i in input['standard_value_norm']:\n",
        "        molar = i*(10**-9)             # Converts nM to M\n",
        "        pIC50.append(-np.log10(molar))\n",
        "\n",
        "    input['pIC50'] = pIC50\n",
        "    x = input.drop('standard_value_norm', 1)\n",
        "        \n",
        "    return x\n",
        "\n",
        "def norm_value(input):\n",
        "    norm = []\n",
        "\n",
        "    for i in input['standard_value']:\n",
        "        if i > 100000000:\n",
        "          i = 100000000\n",
        "        norm.append(i)\n",
        "\n",
        "    input['standard_value_norm'] = norm\n",
        "    x = input.drop('standard_value', 1)\n",
        "        \n",
        "    return x"
      ],
      "execution_count": 29,
      "outputs": []
    },
    {
      "cell_type": "markdown",
      "metadata": {
        "id": "jevxGRqKPd85"
      },
      "source": [
        "Since moles can't be negative, values more than 100 million are capped to 100 million"
      ]
    },
    {
      "cell_type": "code",
      "metadata": {
        "id": "EUozv_e6qp09",
        "outputId": "55deec06-8284-4923-f9e7-fa4d8c634cb5",
        "colab": {
          "base_uri": "https://localhost:8080/",
          "height": 206
        }
      },
      "source": [
        "data_normed = norm_value(data_combined)\n",
        "data_final = pIC50(data_normed)\n",
        "for i in data_final.pIC50:\n",
        "    if i<0:\n",
        "        print(i)\n",
        "data_final.head()"
      ],
      "execution_count": 30,
      "outputs": [
        {
          "output_type": "execute_result",
          "data": {
            "text/html": [
              "<div>\n",
              "<style scoped>\n",
              "    .dataframe tbody tr th:only-of-type {\n",
              "        vertical-align: middle;\n",
              "    }\n",
              "\n",
              "    .dataframe tbody tr th {\n",
              "        vertical-align: top;\n",
              "    }\n",
              "\n",
              "    .dataframe thead th {\n",
              "        text-align: right;\n",
              "    }\n",
              "</style>\n",
              "<table border=\"1\" class=\"dataframe\">\n",
              "  <thead>\n",
              "    <tr style=\"text-align: right;\">\n",
              "      <th></th>\n",
              "      <th>molecule_chembl_id</th>\n",
              "      <th>canonical_smiles</th>\n",
              "      <th>Bio_class</th>\n",
              "      <th>MW</th>\n",
              "      <th>LogP</th>\n",
              "      <th>NumHDonors</th>\n",
              "      <th>NumHAcceptors</th>\n",
              "      <th>pIC50</th>\n",
              "    </tr>\n",
              "  </thead>\n",
              "  <tbody>\n",
              "    <tr>\n",
              "      <th>0</th>\n",
              "      <td>CHEMBL187579</td>\n",
              "      <td>Cc1noc(C)c1CN1C(=O)C(=O)c2cc(C#N)ccc21</td>\n",
              "      <td>intermediate</td>\n",
              "      <td>281.271</td>\n",
              "      <td>1.89262</td>\n",
              "      <td>0.0</td>\n",
              "      <td>5.0</td>\n",
              "      <td>5.142668</td>\n",
              "    </tr>\n",
              "    <tr>\n",
              "      <th>1</th>\n",
              "      <td>CHEMBL188487</td>\n",
              "      <td>O=C1C(=O)N(Cc2ccc(F)cc2Cl)c2ccc(I)cc21</td>\n",
              "      <td>intermediate</td>\n",
              "      <td>415.589</td>\n",
              "      <td>3.81320</td>\n",
              "      <td>0.0</td>\n",
              "      <td>2.0</td>\n",
              "      <td>5.026872</td>\n",
              "    </tr>\n",
              "    <tr>\n",
              "      <th>2</th>\n",
              "      <td>CHEMBL185698</td>\n",
              "      <td>O=C1C(=O)N(CC2COc3ccccc3O2)c2ccc(I)cc21</td>\n",
              "      <td>inactive</td>\n",
              "      <td>421.190</td>\n",
              "      <td>2.66050</td>\n",
              "      <td>0.0</td>\n",
              "      <td>4.0</td>\n",
              "      <td>4.869666</td>\n",
              "    </tr>\n",
              "    <tr>\n",
              "      <th>3</th>\n",
              "      <td>CHEMBL426082</td>\n",
              "      <td>O=C1C(=O)N(Cc2cc3ccccc3s2)c2ccccc21</td>\n",
              "      <td>inactive</td>\n",
              "      <td>293.347</td>\n",
              "      <td>3.63080</td>\n",
              "      <td>0.0</td>\n",
              "      <td>3.0</td>\n",
              "      <td>4.882397</td>\n",
              "    </tr>\n",
              "    <tr>\n",
              "      <th>4</th>\n",
              "      <td>CHEMBL187717</td>\n",
              "      <td>O=C1C(=O)N(Cc2cc3ccccc3s2)c2c1cccc2[N+](=O)[O-]</td>\n",
              "      <td>intermediate</td>\n",
              "      <td>338.344</td>\n",
              "      <td>3.53900</td>\n",
              "      <td>0.0</td>\n",
              "      <td>5.0</td>\n",
              "      <td>5.698970</td>\n",
              "    </tr>\n",
              "  </tbody>\n",
              "</table>\n",
              "</div>"
            ],
            "text/plain": [
              "  molecule_chembl_id  ...     pIC50\n",
              "0       CHEMBL187579  ...  5.142668\n",
              "1       CHEMBL188487  ...  5.026872\n",
              "2       CHEMBL185698  ...  4.869666\n",
              "3       CHEMBL426082  ...  4.882397\n",
              "4       CHEMBL187717  ...  5.698970\n",
              "\n",
              "[5 rows x 8 columns]"
            ]
          },
          "metadata": {
            "tags": []
          },
          "execution_count": 30
        }
      ]
    },
    {
      "cell_type": "markdown",
      "metadata": {
        "id": "5QuSVLbeMvbT"
      },
      "source": [
        "We don't want logrithmic negative values therefore capping the max of IC50 data to 100 million"
      ]
    },
    {
      "cell_type": "code",
      "metadata": {
        "id": "Vh19Mx3UrngU"
      },
      "source": [
        "data_final.to_csv('data_final.csv',index=False)\n",
        "#data_final = pIC50(df_norm)\n",
        "#data_final.head()"
      ],
      "execution_count": 31,
      "outputs": []
    },
    {
      "cell_type": "code",
      "metadata": {
        "id": "z4rOF-QdsAQF"
      },
      "source": [
        "import seaborn as sns\n",
        "sns.set(style='ticks')\n",
        "import matplotlib.pyplot as plt"
      ],
      "execution_count": 32,
      "outputs": []
    },
    {
      "cell_type": "code",
      "metadata": {
        "id": "MyWoJhQysS5r",
        "outputId": "cc617eed-7010-4e56-dc50-5df278512149",
        "colab": {
          "base_uri": "https://localhost:8080/",
          "height": 385
        }
      },
      "source": [
        "plt.figure(figsize=(5.5, 5.5))\n",
        "sns.countplot(x='Bio_class', data=data_final, edgecolor='black')\n",
        "plt.xlabel('Bioactivity class', fontsize=14, fontweight='bold')\n",
        "plt.ylabel('Frequency', fontsize=14, fontweight='bold')\n",
        "#plt.savefig('plot_bioactivity_class.png')"
      ],
      "execution_count": 33,
      "outputs": [
        {
          "output_type": "execute_result",
          "data": {
            "text/plain": [
              "Text(0, 0.5, 'Frequency')"
            ]
          },
          "metadata": {
            "tags": []
          },
          "execution_count": 33
        },
        {
          "output_type": "display_data",
          "data": {
            "image/png": "[encoded data removed]",
            "text/plain": [
              "<Figure size 396x396 with 1 Axes>"
            ]
          },
          "metadata": {
            "tags": []
          }
        }
      ]
    },
    {
      "cell_type": "markdown",
      "metadata": {
        "id": "nSCPMmS_ssD2"
      },
      "source": [
        "### Scatter plot below"
      ]
    },
    {
      "cell_type": "code",
      "metadata": {
        "id": "0wFgBNQIscOf",
        "outputId": "8425134a-d598-4f20-9a33-b71326ad9332",
        "colab": {
          "base_uri": "https://localhost:8080/",
          "height": 385
        }
      },
      "source": [
        "plt.figure(figsize=(5.5, 5.5))\n",
        "sns.scatterplot(x='MW', y='LogP', data=data_final, hue='Bio_class', size='pIC50', edgecolor='black', alpha=0.7)\n",
        "plt.xlabel('MW', fontsize=14, fontweight='bold')\n",
        "plt.ylabel('LogP', fontsize=14, fontweight='bold')\n",
        "plt.legend(bbox_to_anchor=(1.05, 1), loc=2, borderaxespad=0)\n",
        "#plt.savefig('plot_MW_vs_LogP.png')"
      ],
      "execution_count": 34,
      "outputs": [
        {
          "output_type": "execute_result",
          "data": {
            "text/plain": [
              "<matplotlib.legend.Legend at 0x7ff89bb2cf60>"
            ]
          },
          "metadata": {
            "tags": []
          },
          "execution_count": 34
        },
        {
          "output_type": "display_data",
          "data": {
            "image/png": "[encoded data removed]",
            "text/plain": [
              "<Figure size 396x396 with 1 Axes>"
            ]
          },
          "metadata": {
            "tags": []
          }
        }
      ]
    },
    {
      "cell_type": "markdown",
      "metadata": {
        "id": "tarqdkPcs5_g"
      },
      "source": [
        "### pIC50 box Plot"
      ]
    },
    {
      "cell_type": "code",
      "metadata": {
        "id": "uwwXi-Mssy_s",
        "outputId": "acacbd36-e4d6-4d1f-9eff-4c03dda63868",
        "colab": {
          "base_uri": "https://localhost:8080/",
          "height": 385
        }
      },
      "source": [
        "plt.figure(figsize=(5.5, 5.5))\n",
        "sns.boxplot(x = 'Bio_class', y = 'pIC50', data = data_final)\n",
        "plt.xlabel('Bioactivity class', fontsize=14, fontweight='bold')\n",
        "plt.ylabel('pIC50 value', fontsize=14, fontweight='bold')\n",
        "#plt.savefig('plot_ic50.png')"
      ],
      "execution_count": 35,
      "outputs": [
        {
          "output_type": "execute_result",
          "data": {
            "text/plain": [
              "Text(0, 0.5, 'pIC50 value')"
            ]
          },
          "metadata": {
            "tags": []
          },
          "execution_count": 35
        },
        {
          "output_type": "display_data",
          "data": {
            "image/png": "[encoded data removed]",
            "text/plain": [
              "<Figure size 396x396 with 1 Axes>"
            ]
          },
          "metadata": {
            "tags": []
          }
        }
      ]
    },
    {
      "cell_type": "markdown",
      "metadata": {
        "id": "H1Imot3gDflG"
      },
      "source": [
        "### Comparing Active and Inactive Biactivity levels. \n",
        "To see these two groups are different statistically or not using ***Man-whiteny U test***"
      ]
    },
    {
      "cell_type": "code",
      "metadata": {
        "id": "OiJgGjQMvKL8",
        "outputId": "b4cb1196-0922-4229-cad1-d39257093b27",
        "colab": {
          "base_uri": "https://localhost:8080/",
          "height": 35
        }
      },
      "source": [
        "data_2class = data_final[data_final.Bio_class!= 'intermediate']\n",
        "data_2class.shape"
      ],
      "execution_count": 36,
      "outputs": [
        {
          "output_type": "execute_result",
          "data": {
            "text/plain": [
              "(119, 8)"
            ]
          },
          "metadata": {
            "tags": []
          },
          "execution_count": 36
        }
      ]
    },
    {
      "cell_type": "markdown",
      "metadata": {
        "id": "-OuX74SptDbK"
      },
      "source": [
        "#### Statistical analysis | Man-whiteny U test\n",
        "~~~\n",
        "This test is used to analyze whether two groups are related or not. Inspired from dataprof.\n"
      ]
    },
    {
      "cell_type": "code",
      "metadata": {
        "id": "z9UGMWqas-EY"
      },
      "source": [
        "def mannwhitney(descriptor, verbose=False):\n",
        "  # https://machinelearningmastery.com/nonparametric-statistical-significance-tests-in-python/\n",
        "  from numpy.random import seed\n",
        "  from numpy.random import randn\n",
        "  from scipy.stats import mannwhitneyu\n",
        "\n",
        "# seed the random number generator\n",
        "  seed(1)\n",
        "\n",
        "# actives and inactives\n",
        "  selection = [descriptor, 'Bio_class']\n",
        "  df = data_2class[selection]\n",
        "  active = df[df.Bio_class == 'active']\n",
        "  active = active[descriptor]\n",
        "\n",
        "  selection = [descriptor, 'Bio_class']\n",
        "  df = data_2class[selection]\n",
        "  inactive = df[df.Bio_class == 'inactive']\n",
        "  inactive = inactive[descriptor]\n",
        "\n",
        "  selection = [descriptor, 'Bio_class']\n",
        "  df = data_final[selection]\n",
        "  intermediate = df[df.Bio_class == 'intermediate']\n",
        "  intermediate = intermediate[descriptor]\n",
        "\n",
        "# compare samples\n",
        "  stat, p = mannwhitneyu(active, inactive)\n",
        "  #print('Statistics=%.3f, p=%.3f' % (stat, p))\n",
        "\n",
        "# interpret\n",
        "  alpha = 0.05\n",
        "  if p > alpha:\n",
        "    interpretation = 'Same distribution (fail to reject H0)'\n",
        "  else:\n",
        "    interpretation = 'Different distribution (reject H0)'\n",
        "  \n",
        "  results = pd.DataFrame({'Descriptor':descriptor,\n",
        "                          'Statistics':stat,\n",
        "                          'p':p,\n",
        "                          'alpha':alpha,\n",
        "                          'Interpretation':interpretation}, index=[0])\n",
        "  \n",
        "  return results"
      ],
      "execution_count": 43,
      "outputs": []
    },
    {
      "cell_type": "code",
      "metadata": {
        "id": "0byP3jSgtaeE",
        "outputId": "705a6b84-9e36-4c6f-c026-fc33f57f0148",
        "colab": {
          "base_uri": "https://localhost:8080/",
          "height": 81
        }
      },
      "source": [
        "mannwhitney('pIC50')"
      ],
      "execution_count": 44,
      "outputs": [
        {
          "output_type": "execute_result",
          "data": {
            "text/html": [
              "<div>\n",
              "<style scoped>\n",
              "    .dataframe tbody tr th:only-of-type {\n",
              "        vertical-align: middle;\n",
              "    }\n",
              "\n",
              "    .dataframe tbody tr th {\n",
              "        vertical-align: top;\n",
              "    }\n",
              "\n",
              "    .dataframe thead th {\n",
              "        text-align: right;\n",
              "    }\n",
              "</style>\n",
              "<table border=\"1\" class=\"dataframe\">\n",
              "  <thead>\n",
              "    <tr style=\"text-align: right;\">\n",
              "      <th></th>\n",
              "      <th>Descriptor</th>\n",
              "      <th>Statistics</th>\n",
              "      <th>p</th>\n",
              "      <th>alpha</th>\n",
              "      <th>Interpretation</th>\n",
              "    </tr>\n",
              "  </thead>\n",
              "  <tbody>\n",
              "    <tr>\n",
              "      <th>0</th>\n",
              "      <td>pIC50</td>\n",
              "      <td>0.0</td>\n",
              "      <td>1.662636e-10</td>\n",
              "      <td>0.05</td>\n",
              "      <td>Different distribution (reject H0)</td>\n",
              "    </tr>\n",
              "  </tbody>\n",
              "</table>\n",
              "</div>"
            ],
            "text/plain": [
              "  Descriptor  Statistics  ...  alpha                      Interpretation\n",
              "0      pIC50         0.0  ...   0.05  Different distribution (reject H0)\n",
              "\n",
              "[1 rows x 5 columns]"
            ]
          },
          "metadata": {
            "tags": []
          },
          "execution_count": 44
        }
      ]
    },
    {
      "cell_type": "markdown",
      "metadata": {
        "id": "ttLJOI7Hvezu"
      },
      "source": [
        "#### MW"
      ]
    },
    {
      "cell_type": "code",
      "metadata": {
        "id": "gjUr6JLEuUTR",
        "outputId": "a4ba7e6f-2edb-4614-e7e0-15c5d082300a",
        "colab": {
          "base_uri": "https://localhost:8080/",
          "height": 385
        }
      },
      "source": [
        "plt.figure(figsize=(5.5, 5.5))\n",
        "sns.boxplot(x = 'Bio_class', y = 'MW', data = data_2class)\n",
        "plt.xlabel('Bioactivity class', fontsize=14, fontweight='bold')\n",
        "plt.ylabel('MW', fontsize=14, fontweight='bold')\n",
        "#plt.savefig('plot_MW_ic50.png')"
      ],
      "execution_count": 45,
      "outputs": [
        {
          "output_type": "execute_result",
          "data": {
            "text/plain": [
              "Text(0, 0.5, 'MW')"
            ]
          },
          "metadata": {
            "tags": []
          },
          "execution_count": 45
        },
        {
          "output_type": "display_data",
          "data": {
            "image/png": "[encoded data removed]",
            "text/plain": [
              "<Figure size 396x396 with 1 Axes>"
            ]
          },
          "metadata": {
            "tags": []
          }
        }
      ]
    },
    {
      "cell_type": "code",
      "metadata": {
        "id": "fUNKi-f3vgKI",
        "outputId": "36fa4e5c-c5b9-4fe9-9163-c84442fb1246",
        "colab": {
          "base_uri": "https://localhost:8080/",
          "height": 81
        }
      },
      "source": [
        "mannwhitney('MW')"
      ],
      "execution_count": 46,
      "outputs": [
        {
          "output_type": "execute_result",
          "data": {
            "text/html": [
              "<div>\n",
              "<style scoped>\n",
              "    .dataframe tbody tr th:only-of-type {\n",
              "        vertical-align: middle;\n",
              "    }\n",
              "\n",
              "    .dataframe tbody tr th {\n",
              "        vertical-align: top;\n",
              "    }\n",
              "\n",
              "    .dataframe thead th {\n",
              "        text-align: right;\n",
              "    }\n",
              "</style>\n",
              "<table border=\"1\" class=\"dataframe\">\n",
              "  <thead>\n",
              "    <tr style=\"text-align: right;\">\n",
              "      <th></th>\n",
              "      <th>Descriptor</th>\n",
              "      <th>Statistics</th>\n",
              "      <th>p</th>\n",
              "      <th>alpha</th>\n",
              "      <th>Interpretation</th>\n",
              "    </tr>\n",
              "  </thead>\n",
              "  <tbody>\n",
              "    <tr>\n",
              "      <th>0</th>\n",
              "      <td>MW</td>\n",
              "      <td>409.5</td>\n",
              "      <td>0.001525</td>\n",
              "      <td>0.05</td>\n",
              "      <td>Different distribution (reject H0)</td>\n",
              "    </tr>\n",
              "  </tbody>\n",
              "</table>\n",
              "</div>"
            ],
            "text/plain": [
              "  Descriptor  Statistics         p  alpha                      Interpretation\n",
              "0         MW       409.5  0.001525   0.05  Different distribution (reject H0)"
            ]
          },
          "metadata": {
            "tags": []
          },
          "execution_count": 46
        }
      ]
    },
    {
      "cell_type": "code",
      "metadata": {
        "id": "wU6bJIK7v-ID",
        "outputId": "de2b2b2b-ad5f-48bb-9d5b-e4aae10a81f4",
        "colab": {
          "base_uri": "https://localhost:8080/",
          "height": 385
        }
      },
      "source": [
        "plt.figure(figsize=(5.5, 5.5))\n",
        "sns.boxplot(x = 'Bio_class', y = 'LogP', data = data_2class)\n",
        "plt.xlabel('Bioactivity class', fontsize=14, fontweight='bold')\n",
        "plt.ylabel('LogP', fontsize=14, fontweight='bold')\n",
        "#plt.savefig('plot_LogP_IC50.png')"
      ],
      "execution_count": 47,
      "outputs": [
        {
          "output_type": "execute_result",
          "data": {
            "text/plain": [
              "Text(0, 0.5, 'LogP')"
            ]
          },
          "metadata": {
            "tags": []
          },
          "execution_count": 47
        },
        {
          "output_type": "display_data",
          "data": {
            "image/png": "[encoded data removed]",
            "text/plain": [
              "<Figure size 396x396 with 1 Axes>"
            ]
          },
          "metadata": {
            "tags": []
          }
        }
      ]
    },
    {
      "cell_type": "code",
      "metadata": {
        "id": "m6dUtSFrwAl-",
        "outputId": "7519a647-e7c8-4988-d191-37ac852f189c",
        "colab": {
          "base_uri": "https://localhost:8080/",
          "height": 81
        }
      },
      "source": [
        "mannwhitney('LogP')"
      ],
      "execution_count": 48,
      "outputs": [
        {
          "output_type": "execute_result",
          "data": {
            "text/html": [
              "<div>\n",
              "<style scoped>\n",
              "    .dataframe tbody tr th:only-of-type {\n",
              "        vertical-align: middle;\n",
              "    }\n",
              "\n",
              "    .dataframe tbody tr th {\n",
              "        vertical-align: top;\n",
              "    }\n",
              "\n",
              "    .dataframe thead th {\n",
              "        text-align: right;\n",
              "    }\n",
              "</style>\n",
              "<table border=\"1\" class=\"dataframe\">\n",
              "  <thead>\n",
              "    <tr style=\"text-align: right;\">\n",
              "      <th></th>\n",
              "      <th>Descriptor</th>\n",
              "      <th>Statistics</th>\n",
              "      <th>p</th>\n",
              "      <th>alpha</th>\n",
              "      <th>Interpretation</th>\n",
              "    </tr>\n",
              "  </thead>\n",
              "  <tbody>\n",
              "    <tr>\n",
              "      <th>0</th>\n",
              "      <td>LogP</td>\n",
              "      <td>712.5</td>\n",
              "      <td>0.295805</td>\n",
              "      <td>0.05</td>\n",
              "      <td>Same distribution (fail to reject H0)</td>\n",
              "    </tr>\n",
              "  </tbody>\n",
              "</table>\n",
              "</div>"
            ],
            "text/plain": [
              "  Descriptor  Statistics  ...  alpha                         Interpretation\n",
              "0       LogP       712.5  ...   0.05  Same distribution (fail to reject H0)\n",
              "\n",
              "[1 rows x 5 columns]"
            ]
          },
          "metadata": {
            "tags": []
          },
          "execution_count": 48
        }
      ]
    },
    {
      "cell_type": "code",
      "metadata": {
        "id": "c44WJd-zwDuD",
        "outputId": "17aabcfa-0166-494d-c79b-89e46b434e21",
        "colab": {
          "base_uri": "https://localhost:8080/",
          "height": 385
        }
      },
      "source": [
        "plt.figure(figsize=(5.5, 5.5))\n",
        "sns.boxplot(x = 'Bio_class', y = 'NumHDonors', data = data_2class)\n",
        "plt.xlabel('Bioactivity class', fontsize=14, fontweight='bold')\n",
        "plt.ylabel('NumHDonors', fontsize=14, fontweight='bold')\n",
        "#plt.savefig('plot_NumHDonors_IC50.png')"
      ],
      "execution_count": 49,
      "outputs": [
        {
          "output_type": "execute_result",
          "data": {
            "text/plain": [
              "Text(0, 0.5, 'NumHDonors')"
            ]
          },
          "metadata": {
            "tags": []
          },
          "execution_count": 49
        },
        {
          "output_type": "display_data",
          "data": {
            "image/png": "[encoded data removed]",
            "text/plain": [
              "<Figure size 396x396 with 1 Axes>"
            ]
          },
          "metadata": {
            "tags": []
          }
        }
      ]
    },
    {
      "cell_type": "code",
      "metadata": {
        "id": "JeylPBqewF23",
        "outputId": "78ca3ea4-783c-42d5-d497-a38e61ee79f8",
        "colab": {
          "base_uri": "https://localhost:8080/",
          "height": 81
        }
      },
      "source": [
        "mannwhitney('NumHDonors')"
      ],
      "execution_count": 50,
      "outputs": [
        {
          "output_type": "execute_result",
          "data": {
            "text/html": [
              "<div>\n",
              "<style scoped>\n",
              "    .dataframe tbody tr th:only-of-type {\n",
              "        vertical-align: middle;\n",
              "    }\n",
              "\n",
              "    .dataframe tbody tr th {\n",
              "        vertical-align: top;\n",
              "    }\n",
              "\n",
              "    .dataframe thead th {\n",
              "        text-align: right;\n",
              "    }\n",
              "</style>\n",
              "<table border=\"1\" class=\"dataframe\">\n",
              "  <thead>\n",
              "    <tr style=\"text-align: right;\">\n",
              "      <th></th>\n",
              "      <th>Descriptor</th>\n",
              "      <th>Statistics</th>\n",
              "      <th>p</th>\n",
              "      <th>alpha</th>\n",
              "      <th>Interpretation</th>\n",
              "    </tr>\n",
              "  </thead>\n",
              "  <tbody>\n",
              "    <tr>\n",
              "      <th>0</th>\n",
              "      <td>NumHDonors</td>\n",
              "      <td>299.5</td>\n",
              "      <td>0.000024</td>\n",
              "      <td>0.05</td>\n",
              "      <td>Different distribution (reject H0)</td>\n",
              "    </tr>\n",
              "  </tbody>\n",
              "</table>\n",
              "</div>"
            ],
            "text/plain": [
              "   Descriptor  Statistics         p  alpha                      Interpretation\n",
              "0  NumHDonors       299.5  0.000024   0.05  Different distribution (reject H0)"
            ]
          },
          "metadata": {
            "tags": []
          },
          "execution_count": 50
        }
      ]
    },
    {
      "cell_type": "code",
      "metadata": {
        "id": "NAy2zHAbwIG1",
        "outputId": "5c59f6ff-0f68-49ac-c09a-8dcae84d238c",
        "colab": {
          "base_uri": "https://localhost:8080/",
          "height": 385
        }
      },
      "source": [
        "plt.figure(figsize=(5.5, 5.5))\n",
        "sns.boxplot(x = 'Bio_class', y = 'NumHAcceptors', data = data_2class)\n",
        "plt.xlabel('Bioactivity class', fontsize=14, fontweight='bold')\n",
        "plt.ylabel('NumHAcceptors', fontsize=14, fontweight='bold')\n",
        "#plt.savefig('plot_NumHAcceptors_IC50.png')"
      ],
      "execution_count": 51,
      "outputs": [
        {
          "output_type": "execute_result",
          "data": {
            "text/plain": [
              "Text(0, 0.5, 'NumHAcceptors')"
            ]
          },
          "metadata": {
            "tags": []
          },
          "execution_count": 51
        },
        {
          "output_type": "display_data",
          "data": {
            "image/png": "[encoded data removed]",
            "text/plain": [
              "<Figure size 396x396 with 1 Axes>"
            ]
          },
          "metadata": {
            "tags": []
          }
        }
      ]
    },
    {
      "cell_type": "code",
      "metadata": {
        "id": "iUKGKC44wLip",
        "outputId": "2ba84d58-dce1-40c2-8af2-bf45b0cb5152",
        "colab": {
          "base_uri": "https://localhost:8080/",
          "height": 81
        }
      },
      "source": [
        "mannwhitney('NumHAcceptors')"
      ],
      "execution_count": 52,
      "outputs": [
        {
          "output_type": "execute_result",
          "data": {
            "text/html": [
              "<div>\n",
              "<style scoped>\n",
              "    .dataframe tbody tr th:only-of-type {\n",
              "        vertical-align: middle;\n",
              "    }\n",
              "\n",
              "    .dataframe tbody tr th {\n",
              "        vertical-align: top;\n",
              "    }\n",
              "\n",
              "    .dataframe thead th {\n",
              "        text-align: right;\n",
              "    }\n",
              "</style>\n",
              "<table border=\"1\" class=\"dataframe\">\n",
              "  <thead>\n",
              "    <tr style=\"text-align: right;\">\n",
              "      <th></th>\n",
              "      <th>Descriptor</th>\n",
              "      <th>Statistics</th>\n",
              "      <th>p</th>\n",
              "      <th>alpha</th>\n",
              "      <th>Interpretation</th>\n",
              "    </tr>\n",
              "  </thead>\n",
              "  <tbody>\n",
              "    <tr>\n",
              "      <th>0</th>\n",
              "      <td>NumHAcceptors</td>\n",
              "      <td>415.0</td>\n",
              "      <td>0.001557</td>\n",
              "      <td>0.05</td>\n",
              "      <td>Different distribution (reject H0)</td>\n",
              "    </tr>\n",
              "  </tbody>\n",
              "</table>\n",
              "</div>"
            ],
            "text/plain": [
              "      Descriptor  Statistics  ...  alpha                      Interpretation\n",
              "0  NumHAcceptors       415.0  ...   0.05  Different distribution (reject H0)\n",
              "\n",
              "[1 rows x 5 columns]"
            ]
          },
          "metadata": {
            "tags": []
          },
          "execution_count": 52
        }
      ]
    },
    {
      "cell_type": "markdown",
      "metadata": {
        "id": "OONg7Qe4wP02"
      },
      "source": [
        "#### Interpretation of Results From Box Plots\n",
        "**pIC50 values**\n",
        "\n",
        "Taking a look at pIC50 values, the actives and inactives displayed statistically significant difference, which is to be expected since threshold values \n",
        "  (IC50 < 1,000 nM = Actives while IC50 > 10,000 nM = Inactives, corresponding to pIC50 > 6 = Actives and pIC50 < 5 = Inactives) were used to define actives and inactives.\n",
        "\n",
        "**Lipinski Descriptors**\n",
        "\n",
        "Of the 4 Lipinski's descriptors (MW, LogP, NumHDonors and NumHAcceptors), only **LogP** exhibited no difference between the actives and inactives while the other 3 descriptors **(MW, NumHDonors and NumHAcceptors)** shows statistically significant difference between actives and inactives."
      ]
    },
    {
      "cell_type": "markdown",
      "metadata": {
        "id": "7IOFDF4yxDjr"
      },
      "source": [
        "## Using Descriptor generator\n",
        "This piece of code is taken from [dataprof](https://www.youtube.com/watch?v=zD2focOkQ48)."
      ]
    },
    {
      "cell_type": "code",
      "metadata": {
        "id": "OaszyhmywNnR",
        "outputId": "7f74f491-3281-4320-913b-625ef9c7d00e",
        "colab": {
          "base_uri": "https://localhost:8080/",
          "height": 598
        }
      },
      "source": [
        "if 'padel.sh' in os.listdir():\n",
        "    pass\n",
        "else:\n",
        "    ! wget https://github.com/dataprofessor/bioinformatics/raw/master/padel.zip\n",
        "    ! wget https://github.com/dataprofessor/bioinformatics/raw/master/padel.sh"
      ],
      "execution_count": 53,
      "outputs": [
        {
          "output_type": "stream",
          "text": [
            "--2020-10-12 16:18:35--  https://github.com/dataprofessor/bioinformatics/raw/master/padel.zip\n",
            "Resolving github.com (github.com)... 140.82.112.4\n",
            "Connecting to github.com (github.com)|140.82.112.4|:443... connected.\n",
            "HTTP request sent, awaiting response... 302 Found\n",
            "Location: https://raw.githubusercontent.com/dataprofessor/bioinformatics/master/padel.zip [following]\n",
            "--2020-10-12 16:18:35--  https://raw.githubusercontent.com/dataprofessor/bioinformatics/master/padel.zip\n",
            "Resolving raw.githubusercontent.com (raw.githubusercontent.com)... 151.101.0.133, 151.101.64.133, 151.101.128.133, ...\n",
            "Connecting to raw.githubusercontent.com (raw.githubusercontent.com)|151.101.0.133|:443... connected.\n",
            "HTTP request sent, awaiting response... 200 OK\n",
            "Length: 25768637 (25M) [application/zip]\n",
            "Saving to: ‘padel.zip’\n",
            "\n",
            "padel.zip           100%[===================>]  24.57M  49.5MB/s    in 0.5s    \n",
            "\n",
            "2020-10-12 16:18:36 (49.5 MB/s) - ‘padel.zip’ saved [25768637/25768637]\n",
            "\n",
            "--2020-10-12 16:18:36--  https://github.com/dataprofessor/bioinformatics/raw/master/padel.sh\n",
            "Resolving github.com (github.com)... 140.82.113.3\n",
            "Connecting to github.com (github.com)|140.82.113.3|:443... connected.\n",
            "HTTP request sent, awaiting response... 302 Found\n",
            "Location: https://raw.githubusercontent.com/dataprofessor/bioinformatics/master/padel.sh [following]\n",
            "--2020-10-12 16:18:36--  https://raw.githubusercontent.com/dataprofessor/bioinformatics/master/padel.sh\n",
            "Resolving raw.githubusercontent.com (raw.githubusercontent.com)... 151.101.0.133, 151.101.64.133, 151.101.128.133, ...\n",
            "Connecting to raw.githubusercontent.com (raw.githubusercontent.com)|151.101.0.133|:443... connected.\n",
            "HTTP request sent, awaiting response... 200 OK\n",
            "Length: 231 [text/plain]\n",
            "Saving to: ‘padel.sh’\n",
            "\n",
            "padel.sh            100%[===================>]     231  --.-KB/s    in 0s      \n",
            "\n",
            "2020-10-12 16:18:36 (11.2 MB/s) - ‘padel.sh’ saved [231/231]\n",
            "\n"
          ],
          "name": "stdout"
        }
      ]
    },
    {
      "cell_type": "code",
      "metadata": {
        "id": "Po8aQMluytDL",
        "outputId": "d5fa0b8e-cb45-421f-f257-be782dba631a",
        "colab": {
          "base_uri": "https://localhost:8080/",
          "height": 1000
        }
      },
      "source": [
        "if 'PaDEL-Descriptor' in os.listdir():\n",
        "    pass\n",
        "else:\n",
        "    ! unzip padel.zip"
      ],
      "execution_count": 54,
      "outputs": [
        {
          "output_type": "stream",
          "text": [
            "Archive:  padel.zip\n",
            "   creating: PaDEL-Descriptor/\n",
            "  inflating: __MACOSX/._PaDEL-Descriptor  \n",
            "  inflating: PaDEL-Descriptor/MACCSFingerprinter.xml  \n",
            "  inflating: __MACOSX/PaDEL-Descriptor/._MACCSFingerprinter.xml  \n",
            "  inflating: PaDEL-Descriptor/AtomPairs2DFingerprinter.xml  \n",
            "  inflating: __MACOSX/PaDEL-Descriptor/._AtomPairs2DFingerprinter.xml  \n",
            "  inflating: PaDEL-Descriptor/EStateFingerprinter.xml  \n",
            "  inflating: __MACOSX/PaDEL-Descriptor/._EStateFingerprinter.xml  \n",
            "  inflating: PaDEL-Descriptor/Fingerprinter.xml  \n",
            "  inflating: __MACOSX/PaDEL-Descriptor/._Fingerprinter.xml  \n",
            "  inflating: PaDEL-Descriptor/.DS_Store  \n",
            "  inflating: __MACOSX/PaDEL-Descriptor/._.DS_Store  \n",
            "   creating: PaDEL-Descriptor/license/\n",
            "  inflating: __MACOSX/PaDEL-Descriptor/._license  \n",
            "  inflating: PaDEL-Descriptor/KlekotaRothFingerprintCount.xml  \n",
            "  inflating: __MACOSX/PaDEL-Descriptor/._KlekotaRothFingerprintCount.xml  \n",
            "  inflating: PaDEL-Descriptor/config  \n",
            "  inflating: __MACOSX/PaDEL-Descriptor/._config  \n",
            "  inflating: PaDEL-Descriptor/PubchemFingerprinter.xml  \n",
            "  inflating: __MACOSX/PaDEL-Descriptor/._PubchemFingerprinter.xml  \n",
            "  inflating: PaDEL-Descriptor/ExtendedFingerprinter.xml  \n",
            "  inflating: __MACOSX/PaDEL-Descriptor/._ExtendedFingerprinter.xml  \n",
            "  inflating: PaDEL-Descriptor/KlekotaRothFingerprinter.xml  \n",
            "  inflating: __MACOSX/PaDEL-Descriptor/._KlekotaRothFingerprinter.xml  \n",
            "  inflating: PaDEL-Descriptor/GraphOnlyFingerprinter.xml  \n",
            "  inflating: __MACOSX/PaDEL-Descriptor/._GraphOnlyFingerprinter.xml  \n",
            "  inflating: PaDEL-Descriptor/SubstructureFingerprinter.xml  \n",
            "  inflating: __MACOSX/PaDEL-Descriptor/._SubstructureFingerprinter.xml  \n",
            "  inflating: PaDEL-Descriptor/Descriptors.xls  \n",
            "  inflating: __MACOSX/PaDEL-Descriptor/._Descriptors.xls  \n",
            "   creating: PaDEL-Descriptor/lib/\n",
            "  inflating: __MACOSX/PaDEL-Descriptor/._lib  \n",
            "  inflating: PaDEL-Descriptor/PaDEL-Descriptor.jar  \n",
            "  inflating: __MACOSX/PaDEL-Descriptor/._PaDEL-Descriptor.jar  \n",
            "  inflating: PaDEL-Descriptor/SubstructureFingerprintCount.xml  \n",
            "  inflating: __MACOSX/PaDEL-Descriptor/._SubstructureFingerprintCount.xml  \n",
            "  inflating: PaDEL-Descriptor/AtomPairs2DFingerprintCount.xml  \n",
            "  inflating: __MACOSX/PaDEL-Descriptor/._AtomPairs2DFingerprintCount.xml  \n",
            "  inflating: PaDEL-Descriptor/descriptors.xml  \n",
            "  inflating: __MACOSX/PaDEL-Descriptor/._descriptors.xml  \n",
            "  inflating: PaDEL-Descriptor/license/lgpl-2.1.txt  \n",
            "  inflating: __MACOSX/PaDEL-Descriptor/license/._lgpl-2.1.txt  \n",
            "  inflating: PaDEL-Descriptor/license/LICENSE.txt  \n",
            "  inflating: __MACOSX/PaDEL-Descriptor/license/._LICENSE.txt  \n",
            "  inflating: PaDEL-Descriptor/license/README - CDK  \n",
            "  inflating: __MACOSX/PaDEL-Descriptor/license/._README - CDK  \n",
            "  inflating: PaDEL-Descriptor/license/lgpl.license  \n",
            "  inflating: __MACOSX/PaDEL-Descriptor/license/._lgpl.license  \n",
            "  inflating: PaDEL-Descriptor/lib/ambit2-core-2.4.7-SNAPSHOT(3).jar  \n",
            "  inflating: __MACOSX/PaDEL-Descriptor/lib/._ambit2-core-2.4.7-SNAPSHOT(3).jar  \n",
            "  inflating: PaDEL-Descriptor/lib/libPaDEL-Jobs(6).jar  \n",
            "  inflating: __MACOSX/PaDEL-Descriptor/lib/._libPaDEL-Jobs(6).jar  \n",
            "  inflating: PaDEL-Descriptor/lib/libPaDEL.jar  \n",
            "  inflating: __MACOSX/PaDEL-Descriptor/lib/._libPaDEL.jar  \n",
            "  inflating: PaDEL-Descriptor/lib/jgrapht-0.6.0(4).jar  \n",
            "  inflating: __MACOSX/PaDEL-Descriptor/lib/._jgrapht-0.6.0(4).jar  \n",
            "  inflating: PaDEL-Descriptor/lib/commons-cli-1.2(2).jar  \n",
            "  inflating: __MACOSX/PaDEL-Descriptor/lib/._commons-cli-1.2(2).jar  \n",
            "  inflating: PaDEL-Descriptor/lib/xom-1.1(1).jar  \n",
            "  inflating: __MACOSX/PaDEL-Descriptor/lib/._xom-1.1(1).jar  \n",
            "  inflating: PaDEL-Descriptor/lib/swing-worker-1.1.jar  \n",
            "  inflating: __MACOSX/PaDEL-Descriptor/lib/._swing-worker-1.1.jar  \n",
            "  inflating: PaDEL-Descriptor/lib/commons-cli-1.2(3).jar  \n",
            "  inflating: __MACOSX/PaDEL-Descriptor/lib/._commons-cli-1.2(3).jar  \n",
            "  inflating: PaDEL-Descriptor/lib/jgrapht-0.6.0(5).jar  \n",
            "  inflating: __MACOSX/PaDEL-Descriptor/lib/._jgrapht-0.6.0(5).jar  \n",
            "  inflating: PaDEL-Descriptor/lib/jama(1).jar  \n",
            "  inflating: __MACOSX/PaDEL-Descriptor/lib/._jama(1).jar  \n",
            "  inflating: PaDEL-Descriptor/lib/appframework-1.0.3.jar  \n",
            "  inflating: __MACOSX/PaDEL-Descriptor/lib/._appframework-1.0.3.jar  \n",
            "  inflating: PaDEL-Descriptor/lib/libPaDEL-Jobs(7).jar  \n",
            "  inflating: __MACOSX/PaDEL-Descriptor/lib/._libPaDEL-Jobs(7).jar  \n",
            "  inflating: PaDEL-Descriptor/lib/vecmath1.2-1.14.jar  \n",
            "  inflating: __MACOSX/PaDEL-Descriptor/lib/._vecmath1.2-1.14.jar  \n",
            "  inflating: PaDEL-Descriptor/lib/ambit2-smarts-2.4.7-SNAPSHOT(6).jar  \n",
            "  inflating: __MACOSX/PaDEL-Descriptor/lib/._ambit2-smarts-2.4.7-SNAPSHOT(6).jar  \n",
            "  inflating: PaDEL-Descriptor/lib/ambit2-core-2.4.7-SNAPSHOT(2).jar  \n",
            "  inflating: __MACOSX/PaDEL-Descriptor/lib/._ambit2-core-2.4.7-SNAPSHOT(2).jar  \n",
            "  inflating: PaDEL-Descriptor/lib/jama(6).jar  \n",
            "  inflating: __MACOSX/PaDEL-Descriptor/lib/._jama(6).jar  \n",
            "  inflating: PaDEL-Descriptor/lib/jgrapht-0.6.0(2).jar  \n",
            "  inflating: __MACOSX/PaDEL-Descriptor/lib/._jgrapht-0.6.0(2).jar  \n",
            "  inflating: PaDEL-Descriptor/lib/libPaDEL-Descriptor(3).jar  \n",
            "  inflating: __MACOSX/PaDEL-Descriptor/lib/._libPaDEL-Descriptor(3).jar  \n",
            "  inflating: PaDEL-Descriptor/lib/commons-cli-1.2(4).jar  \n",
            "  inflating: __MACOSX/PaDEL-Descriptor/lib/._commons-cli-1.2(4).jar  \n",
            "  inflating: PaDEL-Descriptor/lib/ambit2-base-2.4.7-SNAPSHOT.jar  \n",
            "  inflating: __MACOSX/PaDEL-Descriptor/lib/._ambit2-base-2.4.7-SNAPSHOT.jar  \n",
            "  inflating: PaDEL-Descriptor/lib/ambit2-smarts-2.4.7-SNAPSHOT(1).jar  \n",
            "  inflating: __MACOSX/PaDEL-Descriptor/lib/._ambit2-smarts-2.4.7-SNAPSHOT(1).jar  \n",
            "  inflating: PaDEL-Descriptor/lib/commons-cli-1.2.jar  \n",
            "  inflating: __MACOSX/PaDEL-Descriptor/lib/._commons-cli-1.2.jar  \n",
            "  inflating: PaDEL-Descriptor/lib/commons-cli-1.2(8).jar  \n",
            "  inflating: __MACOSX/PaDEL-Descriptor/lib/._commons-cli-1.2(8).jar  \n",
            "  inflating: PaDEL-Descriptor/lib/jgrapht-0.6.0.jar  \n",
            "  inflating: __MACOSX/PaDEL-Descriptor/lib/._jgrapht-0.6.0.jar  \n",
            "  inflating: PaDEL-Descriptor/lib/libPaDEL-Jobs(1).jar  \n",
            "  inflating: __MACOSX/PaDEL-Descriptor/lib/._libPaDEL-Jobs(1).jar  \n",
            "  inflating: PaDEL-Descriptor/lib/libPaDEL-Jobs.jar  \n",
            "  inflating: __MACOSX/PaDEL-Descriptor/lib/._libPaDEL-Jobs.jar  \n",
            "  inflating: PaDEL-Descriptor/lib/ambit2-core-2.4.7-SNAPSHOT(4).jar  \n",
            "  inflating: __MACOSX/PaDEL-Descriptor/lib/._ambit2-core-2.4.7-SNAPSHOT(4).jar  \n",
            "  inflating: PaDEL-Descriptor/lib/xom-1.1.jar  \n",
            "  inflating: __MACOSX/PaDEL-Descriptor/lib/._xom-1.1.jar  \n",
            "  inflating: PaDEL-Descriptor/lib/commons-cli-1.2(5).jar  \n",
            "  inflating: __MACOSX/PaDEL-Descriptor/lib/._commons-cli-1.2(5).jar  \n",
            "  inflating: PaDEL-Descriptor/lib/libPaDEL-Descriptor(2).jar  \n",
            "  inflating: __MACOSX/PaDEL-Descriptor/lib/._libPaDEL-Descriptor(2).jar  \n",
            "  inflating: PaDEL-Descriptor/lib/jgrapht-0.6.0(3).jar  \n",
            "  inflating: __MACOSX/PaDEL-Descriptor/lib/._jgrapht-0.6.0(3).jar  \n",
            "  inflating: PaDEL-Descriptor/lib/jama(7).jar  \n",
            "  inflating: __MACOSX/PaDEL-Descriptor/lib/._jama(7).jar  \n",
            "  inflating: PaDEL-Descriptor/lib/ambit2-core-2.4.7-SNAPSHOT.jar  \n",
            "  inflating: __MACOSX/PaDEL-Descriptor/lib/._ambit2-core-2.4.7-SNAPSHOT.jar  \n",
            "  inflating: PaDEL-Descriptor/lib/commons-cli-1.2(6).jar  \n",
            "  inflating: __MACOSX/PaDEL-Descriptor/lib/._commons-cli-1.2(6).jar  \n",
            "  inflating: PaDEL-Descriptor/lib/libPaDEL-Descriptor(1).jar  \n",
            "  inflating: __MACOSX/PaDEL-Descriptor/lib/._libPaDEL-Descriptor(1).jar  \n",
            "  inflating: PaDEL-Descriptor/lib/jama(4).jar  \n",
            "  inflating: __MACOSX/PaDEL-Descriptor/lib/._jama(4).jar  \n",
            "  inflating: PaDEL-Descriptor/lib/libPaDEL-Jobs(2).jar  \n",
            "  inflating: __MACOSX/PaDEL-Descriptor/lib/._libPaDEL-Jobs(2).jar  \n",
            "  inflating: PaDEL-Descriptor/lib/ambit2-smarts-2.4.7-SNAPSHOT(3).jar  \n",
            "  inflating: __MACOSX/PaDEL-Descriptor/lib/._ambit2-smarts-2.4.7-SNAPSHOT(3).jar  \n",
            "  inflating: PaDEL-Descriptor/lib/ambit2-smarts-2.4.7-SNAPSHOT(2).jar  \n",
            "  inflating: __MACOSX/PaDEL-Descriptor/lib/._ambit2-smarts-2.4.7-SNAPSHOT(2).jar  \n",
            "  inflating: PaDEL-Descriptor/lib/ambit2-smarts-2.4.7-SNAPSHOT.jar  \n",
            "  inflating: __MACOSX/PaDEL-Descriptor/lib/._ambit2-smarts-2.4.7-SNAPSHOT.jar  \n",
            "  inflating: PaDEL-Descriptor/lib/libPaDEL-Jobs(3).jar  \n",
            "  inflating: __MACOSX/PaDEL-Descriptor/lib/._libPaDEL-Jobs(3).jar  \n",
            "  inflating: PaDEL-Descriptor/lib/l2fprod-common-all(1).jar  \n",
            "  inflating: __MACOSX/PaDEL-Descriptor/lib/._l2fprod-common-all(1).jar  \n",
            "  inflating: PaDEL-Descriptor/lib/jama.jar  \n",
            "  inflating: __MACOSX/PaDEL-Descriptor/lib/._jama.jar  \n",
            "  inflating: PaDEL-Descriptor/lib/l2fprod-common-all.jar  \n",
            "  inflating: __MACOSX/PaDEL-Descriptor/lib/._l2fprod-common-all.jar  \n",
            "  inflating: PaDEL-Descriptor/lib/jama(5).jar  \n",
            "  inflating: __MACOSX/PaDEL-Descriptor/lib/._jama(5).jar  \n",
            "  inflating: PaDEL-Descriptor/lib/jgrapht-0.6.0(1).jar  \n",
            "  inflating: __MACOSX/PaDEL-Descriptor/lib/._jgrapht-0.6.0(1).jar  \n",
            "  inflating: PaDEL-Descriptor/lib/commons-cli-1.2(7).jar  \n",
            "  inflating: __MACOSX/PaDEL-Descriptor/lib/._commons-cli-1.2(7).jar  \n",
            "  inflating: PaDEL-Descriptor/lib/libPaDEL-Descriptor.jar  \n",
            "  inflating: __MACOSX/PaDEL-Descriptor/lib/._libPaDEL-Descriptor.jar  \n",
            "  inflating: PaDEL-Descriptor/lib/libPaDEL-Jobs(4).jar  \n",
            "  inflating: __MACOSX/PaDEL-Descriptor/lib/._libPaDEL-Jobs(4).jar  \n",
            "  inflating: PaDEL-Descriptor/lib/cdk-1.4.15.jar  \n",
            "  inflating: __MACOSX/PaDEL-Descriptor/lib/._cdk-1.4.15.jar  \n",
            "  inflating: PaDEL-Descriptor/lib/ambit2-smarts-2.4.7-SNAPSHOT(5).jar  \n",
            "  inflating: __MACOSX/PaDEL-Descriptor/lib/._ambit2-smarts-2.4.7-SNAPSHOT(5).jar  \n",
            "  inflating: PaDEL-Descriptor/lib/ambit2-core-2.4.7-SNAPSHOT(1).jar  \n",
            "  inflating: __MACOSX/PaDEL-Descriptor/lib/._ambit2-core-2.4.7-SNAPSHOT(1).jar  \n",
            "  inflating: PaDEL-Descriptor/lib/libPaDEL-Jobs(8).jar  \n",
            "  inflating: __MACOSX/PaDEL-Descriptor/lib/._libPaDEL-Jobs(8).jar  \n",
            "  inflating: PaDEL-Descriptor/lib/jgrapht-0.6.0(6).jar  \n",
            "  inflating: __MACOSX/PaDEL-Descriptor/lib/._jgrapht-0.6.0(6).jar  \n",
            "  inflating: PaDEL-Descriptor/lib/jama(2).jar  \n",
            "  inflating: __MACOSX/PaDEL-Descriptor/lib/._jama(2).jar  \n",
            "  inflating: PaDEL-Descriptor/lib/jama(3).jar  \n",
            "  inflating: __MACOSX/PaDEL-Descriptor/lib/._jama(3).jar  \n",
            "  inflating: PaDEL-Descriptor/lib/commons-cli-1.2(1).jar  \n",
            "  inflating: __MACOSX/PaDEL-Descriptor/lib/._commons-cli-1.2(1).jar  \n",
            "  inflating: PaDEL-Descriptor/lib/guava-17.0.jar  \n",
            "  inflating: __MACOSX/PaDEL-Descriptor/lib/._guava-17.0.jar  \n",
            "  inflating: PaDEL-Descriptor/lib/ambit2-smarts-2.4.7-SNAPSHOT(4).jar  \n",
            "  inflating: __MACOSX/PaDEL-Descriptor/lib/._ambit2-smarts-2.4.7-SNAPSHOT(4).jar  \n",
            "  inflating: PaDEL-Descriptor/lib/libPaDEL-Jobs(5).jar  \n",
            "  inflating: __MACOSX/PaDEL-Descriptor/lib/._libPaDEL-Jobs(5).jar  \n"
          ],
          "name": "stdout"
        }
      ]
    },
    {
      "cell_type": "code",
      "metadata": {
        "id": "1Ji4MwPoxhqq"
      },
      "source": [
        "selection = ['canonical_smiles','molecule_chembl_id']\n",
        "data_selection = data_final[selection]\n",
        "data_selection.to_csv('molecule.smi', sep='\\t', index=False, header=False)"
      ],
      "execution_count": 55,
      "outputs": []
    },
    {
      "cell_type": "code",
      "metadata": {
        "id": "WiZ57fqpxytM",
        "outputId": "ca770b6c-84f7-4d32-c6f3-e0c79f24ba9e",
        "colab": {
          "base_uri": "https://localhost:8080/",
          "height": 108
        }
      },
      "source": [
        "! cat molecule.smi | head -5  #this code won't word on jupyter offline"
      ],
      "execution_count": 56,
      "outputs": [
        {
          "output_type": "stream",
          "text": [
            "Cc1noc(C)c1CN1C(=O)C(=O)c2cc(C#N)ccc21\tCHEMBL187579\n",
            "O=C1C(=O)N(Cc2ccc(F)cc2Cl)c2ccc(I)cc21\tCHEMBL188487\n",
            "O=C1C(=O)N(CC2COc3ccccc3O2)c2ccc(I)cc21\tCHEMBL185698\n",
            "O=C1C(=O)N(Cc2cc3ccccc3s2)c2ccccc21\tCHEMBL426082\n",
            "O=C1C(=O)N(Cc2cc3ccccc3s2)c2c1cccc2[N+](=O)[O-]\tCHEMBL187717\n"
          ],
          "name": "stdout"
        }
      ]
    },
    {
      "cell_type": "code",
      "metadata": {
        "id": "hRh7fn5UyCvX",
        "outputId": "23165bb5-135b-4d56-cecd-9636d8192518",
        "colab": {
          "base_uri": "https://localhost:8080/",
          "height": 35
        }
      },
      "source": [
        "! cat molecule.smi | wc -l"
      ],
      "execution_count": 57,
      "outputs": [
        {
          "output_type": "stream",
          "text": [
            "133\n"
          ],
          "name": "stdout"
        }
      ]
    },
    {
      "cell_type": "markdown",
      "metadata": {
        "id": "CfAYspGEyc2n"
      },
      "source": [
        "### Calculate PaDEL fingerprints"
      ]
    },
    {
      "cell_type": "code",
      "metadata": {
        "id": "DYzEZHQLyUPF",
        "outputId": "ac272946-dc1c-44e2-8db5-d3cbe36663cb",
        "colab": {
          "base_uri": "https://localhost:8080/",
          "height": 1000
        }
      },
      "source": [
        "! bash padel.sh"
      ],
      "execution_count": 58,
      "outputs": [
        {
          "output_type": "stream",
          "text": [
            "Processing CHEMBL187579 in molecule.smi (1/133). \n",
            "Processing CHEMBL188487 in molecule.smi (2/133). \n",
            "Processing CHEMBL185698 in molecule.smi (3/133). Average speed: 2.27 s/mol.\n",
            "Processing CHEMBL426082 in molecule.smi (4/133). Average speed: 1.15 s/mol.\n",
            "Processing CHEMBL365134 in molecule.smi (6/133). Average speed: 0.82 s/mol.\n",
            "Processing CHEMBL187717 in molecule.smi (5/133). Average speed: 0.99 s/mol.\n",
            "Processing CHEMBL187598 in molecule.smi (7/133). Average speed: 0.75 s/mol.\n",
            "Processing CHEMBL190743 in molecule.smi (8/133). Average speed: 0.71 s/mol.\n",
            "Processing CHEMBL365469 in molecule.smi (9/133). Average speed: 0.63 s/mol.\n",
            "Processing CHEMBL191575 in molecule.smi (11/133). Average speed: 0.56 s/mol.\n",
            "Processing CHEMBL188983 in molecule.smi (10/133). Average speed: 0.62 s/mol.\n",
            "Processing CHEMBL194398 in molecule.smi (13/133). Average speed: 0.57 s/mol.\n",
            "Processing CHEMBL370923 in molecule.smi (12/133). Average speed: 0.57 s/mol.\n",
            "Processing CHEMBL196635 in molecule.smi (14/133). Average speed: 0.50 s/mol.\n",
            "Processing CHEMBL209287 in molecule.smi (15/133). Average speed: 0.55 s/mol.\n",
            "Processing CHEMBL358279 in molecule.smi (16/133). Average speed: 0.48 s/mol.\n",
            "Processing CHEMBL348660 in molecule.smi (17/133). Average speed: 0.45 s/mol.\n",
            "Processing CHEMBL379727 in molecule.smi (18/133). Average speed: 0.45 s/mol.\n",
            "Processing CHEMBL210525 in molecule.smi (19/133). Average speed: 0.43 s/mol.\n",
            "Processing CHEMBL148483 in molecule.smi (20/133). Average speed: 0.42 s/mol.\n",
            "Processing CHEMBL383725 in molecule.smi (21/133). Average speed: 0.40 s/mol.\n",
            "Processing CHEMBL118596 in molecule.smi (22/133). Average speed: 0.39 s/mol.\n",
            "Processing CHEMBL208732 in molecule.smi (23/133). Average speed: 0.41 s/mol.\n",
            "Processing CHEMBL208732 in molecule.smi (24/133). Average speed: 0.38 s/mol.\n",
            "Processing CHEMBL210146 in molecule.smi (25/133). Average speed: 0.39 s/mol.\n",
            "Processing CHEMBL210146 in molecule.smi (26/133). Average speed: 0.39 s/mol.\n",
            "Processing CHEMBL207458 in molecule.smi (27/133). Average speed: 0.38 s/mol.\n",
            "Processing CHEMBL207458 in molecule.smi (28/133). Average speed: 0.37 s/mol.\n",
            "Processing CHEMBL207484 in molecule.smi (30/133). Average speed: 0.36 s/mol.\n",
            "Processing CHEMBL207484 in molecule.smi (29/133). Average speed: 0.37 s/mol.\n",
            "Processing CHEMBL207207 in molecule.smi (32/133). Average speed: 0.35 s/mol.\n",
            "Processing CHEMBL207207 in molecule.smi (31/133). Average speed: 0.35 s/mol.\n",
            "Processing CHEMBL210487 in molecule.smi (34/133). Average speed: 0.34 s/mol.\n",
            "Processing CHEMBL210487 in molecule.smi (33/133). Average speed: 0.34 s/mol.\n",
            "Processing CHEMBL380470 in molecule.smi (35/133). Average speed: 0.34 s/mol.\n",
            "Processing CHEMBL380470 in molecule.smi (36/133). Average speed: 0.34 s/mol.\n",
            "Processing CHEMBL210612 in molecule.smi (37/133). Average speed: 0.34 s/mol.\n",
            "Processing CHEMBL210612 in molecule.smi (38/133). Average speed: 0.33 s/mol.\n",
            "Processing CHEMBL209667 in molecule.smi (39/133). Average speed: 0.34 s/mol.\n",
            "Processing CHEMBL209667 in molecule.smi (40/133). Average speed: 0.33 s/mol.\n",
            "Processing CHEMBL210097 in molecule.smi (41/133). Average speed: 0.34 s/mol.\n",
            "Processing CHEMBL210097 in molecule.smi (42/133). Average speed: 0.34 s/mol.\n",
            "Processing CHEMBL378674 in molecule.smi (44/133). Average speed: 0.33 s/mol.\n",
            "Processing CHEMBL378674 in molecule.smi (43/133). Average speed: 0.34 s/mol.\n",
            "Processing CHEMBL210216 in molecule.smi (46/133). Average speed: 0.33 s/mol.\n",
            "Processing CHEMBL210216 in molecule.smi (45/133). Average speed: 0.33 s/mol.\n",
            "Processing CHEMBL210195 in molecule.smi (47/133). Average speed: 0.32 s/mol.\n",
            "Processing CHEMBL210195 in molecule.smi (48/133). Average speed: 0.32 s/mol.\n",
            "Processing CHEMBL210437 in molecule.smi (49/133). Average speed: 0.32 s/mol.\n",
            "Processing CHEMBL210437 in molecule.smi (50/133). Average speed: 0.31 s/mol.\n",
            "Processing CHEMBL378677 in molecule.smi (51/133). Average speed: 0.32 s/mol.\n",
            "Processing CHEMBL378677 in molecule.smi (52/133). Average speed: 0.32 s/mol.\n",
            "Processing CHEMBL210972 in molecule.smi (53/133). Average speed: 0.32 s/mol.\n",
            "Processing CHEMBL210972 in molecule.smi (54/133). Average speed: 0.31 s/mol.\n",
            "Processing CHEMBL210145 in molecule.smi (55/133). Average speed: 0.32 s/mol.\n",
            "Processing CHEMBL210145 in molecule.smi (56/133). Average speed: 0.31 s/mol.\n",
            "Processing CHEMBL377225 in molecule.smi (57/133). Average speed: 0.31 s/mol.\n",
            "Processing CHEMBL377225 in molecule.smi (58/133). Average speed: 0.31 s/mol.\n",
            "Processing CHEMBL210823 in molecule.smi (59/133). Average speed: 0.31 s/mol.\n",
            "Processing CHEMBL210823 in molecule.smi (60/133). Average speed: 0.30 s/mol.\n",
            "Processing CHEMBL207381 in molecule.smi (61/133). Average speed: 0.31 s/mol.\n",
            "Processing CHEMBL207381 in molecule.smi (62/133). Average speed: 0.30 s/mol.\n",
            "Processing CHEMBL210511 in molecule.smi (63/133). Average speed: 0.31 s/mol.\n",
            "Processing CHEMBL210511 in molecule.smi (64/133). Average speed: 0.31 s/mol.\n",
            "Processing CHEMBL210632 in molecule.smi (65/133). Average speed: 0.31 s/mol.\n",
            "Processing CHEMBL210632 in molecule.smi (66/133). Average speed: 0.30 s/mol.\n",
            "Processing CHEMBL210497 in molecule.smi (67/133). Average speed: 0.30 s/mol.\n",
            "Processing CHEMBL210497 in molecule.smi (68/133). Average speed: 0.31 s/mol.\n",
            "Processing CHEMBL208584 in molecule.smi (69/133). Average speed: 0.30 s/mol.\n",
            "Processing CHEMBL208584 in molecule.smi (70/133). Average speed: 0.30 s/mol.\n",
            "Processing CHEMBL208763 in molecule.smi (71/133). Average speed: 0.30 s/mol.\n",
            "Processing CHEMBL209227 in molecule.smi (73/133). Average speed: 0.30 s/mol.\n",
            "Processing CHEMBL208763 in molecule.smi (72/133). Average speed: 0.30 s/mol.\n",
            "Processing CHEMBL210092 in molecule.smi (75/133). Average speed: 0.30 s/mol.\n",
            "Processing CHEMBL209227 in molecule.smi (74/133). Average speed: 0.30 s/mol.\n",
            "Processing CHEMBL210092 in molecule.smi (76/133). Average speed: 0.29 s/mol.\n",
            "Processing CHEMBL377150 in molecule.smi (77/133). Average speed: 0.30 s/mol.\n",
            "Processing CHEMBL377150 in molecule.smi (78/133). Average speed: 0.29 s/mol.\n",
            "Processing CHEMBL212454 in molecule.smi (79/133). Average speed: 0.29 s/mol.\n",
            "Processing CHEMBL213581 in molecule.smi (80/133). Average speed: 0.29 s/mol.\n",
            "Processing CHEMBL380403 in molecule.smi (81/133). Average speed: 0.29 s/mol.\n",
            "Processing CHEMBL212504 in molecule.smi (82/133). Average speed: 0.29 s/mol.\n",
            "Processing CHEMBL211969 in molecule.smi (83/133). Average speed: 0.29 s/mol.\n",
            "Processing CHEMBL384739 in molecule.smi (84/133). Average speed: 0.29 s/mol.\n",
            "Processing CHEMBL215732 in molecule.smi (85/133). Average speed: 0.29 s/mol.\n",
            "Processing CHEMBL212240 in molecule.smi (86/133). Average speed: 0.28 s/mol.\n",
            "Processing CHEMBL377253 in molecule.smi (87/133). Average speed: 0.28 s/mol.\n",
            "Processing CHEMBL215397 in molecule.smi (88/133). Average speed: 0.28 s/mol.\n",
            "Processing CHEMBL379642 in molecule.smi (90/133). Average speed: 0.28 s/mol.\n",
            "Processing CHEMBL378342 in molecule.smi (89/133). Average speed: 0.28 s/mol.\n",
            "Processing CHEMBL427404 in molecule.smi (91/133). Average speed: 0.28 s/mol.\n",
            "Processing CHEMBL212190 in molecule.smi (92/133). Average speed: 0.27 s/mol.\n",
            "Processing CHEMBL212019 in molecule.smi (94/133). Average speed: 0.27 s/mol.\n",
            "Processing CHEMBL378700 in molecule.smi (93/133). Average speed: 0.27 s/mol.\n",
            "Processing CHEMBL215733 in molecule.smi (96/133). Average speed: 0.27 s/mol.\n",
            "Processing CHEMBL212399 in molecule.smi (95/133). Average speed: 0.27 s/mol.\n",
            "Processing CHEMBL375130 in molecule.smi (97/133). Average speed: 0.27 s/mol.\n",
            "Processing CHEMBL214372 in molecule.smi (98/133). Average speed: 0.26 s/mol.\n",
            "Processing CHEMBL222840 in molecule.smi (100/133). Average speed: 0.26 s/mol.\n",
            "Processing CHEMBL212218 in molecule.smi (99/133). Average speed: 0.26 s/mol.\n",
            "Processing CHEMBL222769 in molecule.smi (101/133). Average speed: 0.26 s/mol.\n",
            "Processing CHEMBL222735 in molecule.smi (102/133). Average speed: 0.26 s/mol.\n",
            "Processing CHEMBL222628 in molecule.smi (103/133). Average speed: 0.26 s/mol.\n",
            "Processing CHEMBL222893 in molecule.smi (104/133). Average speed: 0.25 s/mol.\n",
            "Processing CHEMBL225515 in molecule.smi (105/133). Average speed: 0.25 s/mol.\n",
            "Processing CHEMBL222234 in molecule.smi (106/133). Average speed: 0.25 s/mol.\n",
            "Processing CHEMBL426898 in molecule.smi (107/133). Average speed: 0.25 s/mol.\n",
            "Processing CHEMBL187266 in molecule.smi (108/133). Average speed: 0.25 s/mol.\n",
            "Processing CHEMBL215254 in molecule.smi (109/133). Average speed: 0.25 s/mol.\n",
            "Processing CHEMBL2146517 in molecule.smi (110/133). Average speed: 0.25 s/mol.\n",
            "Processing CHEMBL187460 in molecule.smi (111/133). Average speed: 0.25 s/mol.\n",
            "Processing CHEMBL363535 in molecule.smi (112/133). Average speed: 0.25 s/mol.\n",
            "Processing CHEMBL227075 in molecule.smi (113/133). Average speed: 0.25 s/mol.\n",
            "Processing CHEMBL45830 in molecule.smi (114/133). Average speed: 0.25 s/mol.\n",
            "Processing CHEMBL187266 in molecule.smi (115/133). Average speed: 0.25 s/mol.\n",
            "Processing CHEMBL2146517 in molecule.smi (117/133). Average speed: 0.25 s/mol.\n",
            "Processing CHEMBL215254 in molecule.smi (116/133). Average speed: 0.25 s/mol.\n",
            "Processing CHEMBL363535 in molecule.smi (119/133). Average speed: 0.25 s/mol.\n",
            "Processing CHEMBL187460 in molecule.smi (118/133). Average speed: 0.25 s/mol.\n",
            "Processing CHEMBL227075 in molecule.smi (120/133). Average speed: 0.25 s/mol.\n",
            "Processing CHEMBL215254 in molecule.smi (122/133). Average speed: 0.25 s/mol.\n",
            "Processing CHEMBL45830 in molecule.smi (121/133). Average speed: 0.25 s/mol.\n",
            "Processing CHEMBL187460 in molecule.smi (123/133). Average speed: 0.25 s/mol.\n",
            "Processing CHEMBL363535 in molecule.smi (124/133). Average speed: 0.25 s/mol.\n",
            "Processing CHEMBL227075 in molecule.smi (125/133). Average speed: 0.25 s/mol.\n",
            "Processing CHEMBL45830 in molecule.smi (126/133). Average speed: 0.25 s/mol.\n",
            "Processing CHEMBL187266 in molecule.smi (127/133). Average speed: 0.25 s/mol.\n",
            "Processing CHEMBL215254 in molecule.smi (128/133). Average speed: 0.25 s/mol.\n",
            "Processing CHEMBL2146517 in molecule.smi (129/133). Average speed: 0.25 s/mol.\n",
            "Processing CHEMBL363535 in molecule.smi (131/133). Average speed: 0.25 s/mol.\n",
            "Processing CHEMBL187460 in molecule.smi (130/133). Average speed: 0.25 s/mol.\n",
            "Processing CHEMBL45830 in molecule.smi (133/133). Average speed: 0.25 s/mol.\n",
            "Processing CHEMBL227075 in molecule.smi (132/133). Average speed: 0.25 s/mol.\n",
            "Descriptor calculation completed in 33.389 secs . Average speed: 0.25 s/mol.\n"
          ],
          "name": "stdout"
        }
      ]
    },
    {
      "cell_type": "markdown",
      "metadata": {
        "id": "XM_FlCy4z21g"
      },
      "source": [
        "### Preparing X and Y Matrices"
      ]
    },
    {
      "cell_type": "code",
      "metadata": {
        "id": "zZ0WKprTyqjM",
        "outputId": "6cd9c6cc-b6f6-4702-9c0c-841215859386",
        "colab": {
          "base_uri": "https://localhost:8080/",
          "height": 255
        }
      },
      "source": [
        "data_X = pd.read_csv('descriptors_output.csv')\n",
        "data_X = data_X.drop(columns=['Name'])\n",
        "data_X.head()"
      ],
      "execution_count": 59,
      "outputs": [
        {
          "output_type": "execute_result",
          "data": {
            "text/html": [
              "<div>\n",
              "<style scoped>\n",
              "    .dataframe tbody tr th:only-of-type {\n",
              "        vertical-align: middle;\n",
              "    }\n",
              "\n",
              "    .dataframe tbody tr th {\n",
              "        vertical-align: top;\n",
              "    }\n",
              "\n",
              "    .dataframe thead th {\n",
              "        text-align: right;\n",
              "    }\n",
              "</style>\n",
              "<table border=\"1\" class=\"dataframe\">\n",
              "  <thead>\n",
              "    <tr style=\"text-align: right;\">\n",
              "      <th></th>\n",
              "      <th>PubchemFP0</th>\n",
              "      <th>PubchemFP1</th>\n",
              "      <th>PubchemFP2</th>\n",
              "      <th>PubchemFP3</th>\n",
              "      <th>PubchemFP4</th>\n",
              "      <th>PubchemFP5</th>\n",
              "      <th>PubchemFP6</th>\n",
              "      <th>PubchemFP7</th>\n",
              "      <th>PubchemFP8</th>\n",
              "      <th>PubchemFP9</th>\n",
              "      <th>PubchemFP10</th>\n",
              "      <th>PubchemFP11</th>\n",
              "      <th>PubchemFP12</th>\n",
              "      <th>PubchemFP13</th>\n",
              "      <th>PubchemFP14</th>\n",
              "      <th>PubchemFP15</th>\n",
              "      <th>PubchemFP16</th>\n",
              "      <th>PubchemFP17</th>\n",
              "      <th>PubchemFP18</th>\n",
              "      <th>PubchemFP19</th>\n",
              "      <th>PubchemFP20</th>\n",
              "      <th>PubchemFP21</th>\n",
              "      <th>PubchemFP22</th>\n",
              "      <th>PubchemFP23</th>\n",
              "      <th>PubchemFP24</th>\n",
              "      <th>PubchemFP25</th>\n",
              "      <th>PubchemFP26</th>\n",
              "      <th>PubchemFP27</th>\n",
              "      <th>PubchemFP28</th>\n",
              "      <th>PubchemFP29</th>\n",
              "      <th>PubchemFP30</th>\n",
              "      <th>PubchemFP31</th>\n",
              "      <th>PubchemFP32</th>\n",
              "      <th>PubchemFP33</th>\n",
              "      <th>PubchemFP34</th>\n",
              "      <th>PubchemFP35</th>\n",
              "      <th>PubchemFP36</th>\n",
              "      <th>PubchemFP37</th>\n",
              "      <th>PubchemFP38</th>\n",
              "      <th>PubchemFP39</th>\n",
              "      <th>...</th>\n",
              "      <th>PubchemFP841</th>\n",
              "      <th>PubchemFP842</th>\n",
              "      <th>PubchemFP843</th>\n",
              "      <th>PubchemFP844</th>\n",
              "      <th>PubchemFP845</th>\n",
              "      <th>PubchemFP846</th>\n",
              "      <th>PubchemFP847</th>\n",
              "      <th>PubchemFP848</th>\n",
              "      <th>PubchemFP849</th>\n",
              "      <th>PubchemFP850</th>\n",
              "      <th>PubchemFP851</th>\n",
              "      <th>PubchemFP852</th>\n",
              "      <th>PubchemFP853</th>\n",
              "      <th>PubchemFP854</th>\n",
              "      <th>PubchemFP855</th>\n",
              "      <th>PubchemFP856</th>\n",
              "      <th>PubchemFP857</th>\n",
              "      <th>PubchemFP858</th>\n",
              "      <th>PubchemFP859</th>\n",
              "      <th>PubchemFP860</th>\n",
              "      <th>PubchemFP861</th>\n",
              "      <th>PubchemFP862</th>\n",
              "      <th>PubchemFP863</th>\n",
              "      <th>PubchemFP864</th>\n",
              "      <th>PubchemFP865</th>\n",
              "      <th>PubchemFP866</th>\n",
              "      <th>PubchemFP867</th>\n",
              "      <th>PubchemFP868</th>\n",
              "      <th>PubchemFP869</th>\n",
              "      <th>PubchemFP870</th>\n",
              "      <th>PubchemFP871</th>\n",
              "      <th>PubchemFP872</th>\n",
              "      <th>PubchemFP873</th>\n",
              "      <th>PubchemFP874</th>\n",
              "      <th>PubchemFP875</th>\n",
              "      <th>PubchemFP876</th>\n",
              "      <th>PubchemFP877</th>\n",
              "      <th>PubchemFP878</th>\n",
              "      <th>PubchemFP879</th>\n",
              "      <th>PubchemFP880</th>\n",
              "    </tr>\n",
              "  </thead>\n",
              "  <tbody>\n",
              "    <tr>\n",
              "      <th>0</th>\n",
              "      <td>1</td>\n",
              "      <td>1</td>\n",
              "      <td>0</td>\n",
              "      <td>0</td>\n",
              "      <td>0</td>\n",
              "      <td>0</td>\n",
              "      <td>0</td>\n",
              "      <td>0</td>\n",
              "      <td>0</td>\n",
              "      <td>1</td>\n",
              "      <td>1</td>\n",
              "      <td>1</td>\n",
              "      <td>0</td>\n",
              "      <td>0</td>\n",
              "      <td>1</td>\n",
              "      <td>0</td>\n",
              "      <td>0</td>\n",
              "      <td>0</td>\n",
              "      <td>1</td>\n",
              "      <td>1</td>\n",
              "      <td>0</td>\n",
              "      <td>0</td>\n",
              "      <td>0</td>\n",
              "      <td>1</td>\n",
              "      <td>0</td>\n",
              "      <td>0</td>\n",
              "      <td>0</td>\n",
              "      <td>0</td>\n",
              "      <td>0</td>\n",
              "      <td>0</td>\n",
              "      <td>0</td>\n",
              "      <td>0</td>\n",
              "      <td>0</td>\n",
              "      <td>0</td>\n",
              "      <td>0</td>\n",
              "      <td>0</td>\n",
              "      <td>0</td>\n",
              "      <td>1</td>\n",
              "      <td>0</td>\n",
              "      <td>0</td>\n",
              "      <td>...</td>\n",
              "      <td>0</td>\n",
              "      <td>0</td>\n",
              "      <td>0</td>\n",
              "      <td>0</td>\n",
              "      <td>0</td>\n",
              "      <td>0</td>\n",
              "      <td>0</td>\n",
              "      <td>0</td>\n",
              "      <td>0</td>\n",
              "      <td>0</td>\n",
              "      <td>0</td>\n",
              "      <td>0</td>\n",
              "      <td>0</td>\n",
              "      <td>0</td>\n",
              "      <td>0</td>\n",
              "      <td>0</td>\n",
              "      <td>0</td>\n",
              "      <td>0</td>\n",
              "      <td>0</td>\n",
              "      <td>0</td>\n",
              "      <td>0</td>\n",
              "      <td>0</td>\n",
              "      <td>0</td>\n",
              "      <td>0</td>\n",
              "      <td>0</td>\n",
              "      <td>0</td>\n",
              "      <td>0</td>\n",
              "      <td>0</td>\n",
              "      <td>0</td>\n",
              "      <td>0</td>\n",
              "      <td>0</td>\n",
              "      <td>0</td>\n",
              "      <td>0</td>\n",
              "      <td>0</td>\n",
              "      <td>0</td>\n",
              "      <td>0</td>\n",
              "      <td>0</td>\n",
              "      <td>0</td>\n",
              "      <td>0</td>\n",
              "      <td>0</td>\n",
              "    </tr>\n",
              "    <tr>\n",
              "      <th>1</th>\n",
              "      <td>1</td>\n",
              "      <td>1</td>\n",
              "      <td>0</td>\n",
              "      <td>0</td>\n",
              "      <td>0</td>\n",
              "      <td>0</td>\n",
              "      <td>0</td>\n",
              "      <td>0</td>\n",
              "      <td>0</td>\n",
              "      <td>1</td>\n",
              "      <td>1</td>\n",
              "      <td>1</td>\n",
              "      <td>0</td>\n",
              "      <td>0</td>\n",
              "      <td>1</td>\n",
              "      <td>1</td>\n",
              "      <td>0</td>\n",
              "      <td>0</td>\n",
              "      <td>1</td>\n",
              "      <td>1</td>\n",
              "      <td>0</td>\n",
              "      <td>0</td>\n",
              "      <td>0</td>\n",
              "      <td>0</td>\n",
              "      <td>0</td>\n",
              "      <td>0</td>\n",
              "      <td>0</td>\n",
              "      <td>0</td>\n",
              "      <td>0</td>\n",
              "      <td>0</td>\n",
              "      <td>0</td>\n",
              "      <td>0</td>\n",
              "      <td>0</td>\n",
              "      <td>0</td>\n",
              "      <td>0</td>\n",
              "      <td>0</td>\n",
              "      <td>0</td>\n",
              "      <td>0</td>\n",
              "      <td>0</td>\n",
              "      <td>0</td>\n",
              "      <td>...</td>\n",
              "      <td>0</td>\n",
              "      <td>0</td>\n",
              "      <td>0</td>\n",
              "      <td>0</td>\n",
              "      <td>0</td>\n",
              "      <td>0</td>\n",
              "      <td>0</td>\n",
              "      <td>0</td>\n",
              "      <td>0</td>\n",
              "      <td>0</td>\n",
              "      <td>0</td>\n",
              "      <td>0</td>\n",
              "      <td>0</td>\n",
              "      <td>0</td>\n",
              "      <td>0</td>\n",
              "      <td>0</td>\n",
              "      <td>0</td>\n",
              "      <td>0</td>\n",
              "      <td>0</td>\n",
              "      <td>0</td>\n",
              "      <td>0</td>\n",
              "      <td>0</td>\n",
              "      <td>0</td>\n",
              "      <td>0</td>\n",
              "      <td>0</td>\n",
              "      <td>0</td>\n",
              "      <td>0</td>\n",
              "      <td>0</td>\n",
              "      <td>0</td>\n",
              "      <td>0</td>\n",
              "      <td>0</td>\n",
              "      <td>0</td>\n",
              "      <td>0</td>\n",
              "      <td>0</td>\n",
              "      <td>0</td>\n",
              "      <td>0</td>\n",
              "      <td>0</td>\n",
              "      <td>0</td>\n",
              "      <td>0</td>\n",
              "      <td>0</td>\n",
              "    </tr>\n",
              "    <tr>\n",
              "      <th>2</th>\n",
              "      <td>1</td>\n",
              "      <td>1</td>\n",
              "      <td>0</td>\n",
              "      <td>0</td>\n",
              "      <td>0</td>\n",
              "      <td>0</td>\n",
              "      <td>0</td>\n",
              "      <td>0</td>\n",
              "      <td>0</td>\n",
              "      <td>1</td>\n",
              "      <td>1</td>\n",
              "      <td>1</td>\n",
              "      <td>1</td>\n",
              "      <td>0</td>\n",
              "      <td>1</td>\n",
              "      <td>0</td>\n",
              "      <td>0</td>\n",
              "      <td>0</td>\n",
              "      <td>1</td>\n",
              "      <td>1</td>\n",
              "      <td>1</td>\n",
              "      <td>0</td>\n",
              "      <td>0</td>\n",
              "      <td>0</td>\n",
              "      <td>0</td>\n",
              "      <td>0</td>\n",
              "      <td>0</td>\n",
              "      <td>0</td>\n",
              "      <td>0</td>\n",
              "      <td>0</td>\n",
              "      <td>0</td>\n",
              "      <td>0</td>\n",
              "      <td>0</td>\n",
              "      <td>0</td>\n",
              "      <td>0</td>\n",
              "      <td>0</td>\n",
              "      <td>0</td>\n",
              "      <td>0</td>\n",
              "      <td>0</td>\n",
              "      <td>0</td>\n",
              "      <td>...</td>\n",
              "      <td>0</td>\n",
              "      <td>0</td>\n",
              "      <td>0</td>\n",
              "      <td>0</td>\n",
              "      <td>0</td>\n",
              "      <td>0</td>\n",
              "      <td>0</td>\n",
              "      <td>0</td>\n",
              "      <td>0</td>\n",
              "      <td>0</td>\n",
              "      <td>0</td>\n",
              "      <td>0</td>\n",
              "      <td>0</td>\n",
              "      <td>0</td>\n",
              "      <td>0</td>\n",
              "      <td>0</td>\n",
              "      <td>0</td>\n",
              "      <td>0</td>\n",
              "      <td>0</td>\n",
              "      <td>0</td>\n",
              "      <td>0</td>\n",
              "      <td>0</td>\n",
              "      <td>0</td>\n",
              "      <td>0</td>\n",
              "      <td>0</td>\n",
              "      <td>0</td>\n",
              "      <td>0</td>\n",
              "      <td>0</td>\n",
              "      <td>0</td>\n",
              "      <td>0</td>\n",
              "      <td>0</td>\n",
              "      <td>0</td>\n",
              "      <td>0</td>\n",
              "      <td>0</td>\n",
              "      <td>0</td>\n",
              "      <td>0</td>\n",
              "      <td>0</td>\n",
              "      <td>0</td>\n",
              "      <td>0</td>\n",
              "      <td>0</td>\n",
              "    </tr>\n",
              "    <tr>\n",
              "      <th>3</th>\n",
              "      <td>1</td>\n",
              "      <td>1</td>\n",
              "      <td>0</td>\n",
              "      <td>0</td>\n",
              "      <td>0</td>\n",
              "      <td>0</td>\n",
              "      <td>0</td>\n",
              "      <td>0</td>\n",
              "      <td>0</td>\n",
              "      <td>1</td>\n",
              "      <td>1</td>\n",
              "      <td>1</td>\n",
              "      <td>1</td>\n",
              "      <td>0</td>\n",
              "      <td>1</td>\n",
              "      <td>0</td>\n",
              "      <td>0</td>\n",
              "      <td>0</td>\n",
              "      <td>1</td>\n",
              "      <td>1</td>\n",
              "      <td>0</td>\n",
              "      <td>0</td>\n",
              "      <td>0</td>\n",
              "      <td>0</td>\n",
              "      <td>0</td>\n",
              "      <td>0</td>\n",
              "      <td>0</td>\n",
              "      <td>0</td>\n",
              "      <td>0</td>\n",
              "      <td>0</td>\n",
              "      <td>0</td>\n",
              "      <td>0</td>\n",
              "      <td>0</td>\n",
              "      <td>1</td>\n",
              "      <td>0</td>\n",
              "      <td>0</td>\n",
              "      <td>0</td>\n",
              "      <td>0</td>\n",
              "      <td>0</td>\n",
              "      <td>0</td>\n",
              "      <td>...</td>\n",
              "      <td>0</td>\n",
              "      <td>0</td>\n",
              "      <td>0</td>\n",
              "      <td>0</td>\n",
              "      <td>0</td>\n",
              "      <td>0</td>\n",
              "      <td>0</td>\n",
              "      <td>0</td>\n",
              "      <td>0</td>\n",
              "      <td>0</td>\n",
              "      <td>0</td>\n",
              "      <td>0</td>\n",
              "      <td>0</td>\n",
              "      <td>0</td>\n",
              "      <td>0</td>\n",
              "      <td>0</td>\n",
              "      <td>0</td>\n",
              "      <td>0</td>\n",
              "      <td>0</td>\n",
              "      <td>0</td>\n",
              "      <td>0</td>\n",
              "      <td>0</td>\n",
              "      <td>0</td>\n",
              "      <td>0</td>\n",
              "      <td>0</td>\n",
              "      <td>0</td>\n",
              "      <td>0</td>\n",
              "      <td>0</td>\n",
              "      <td>0</td>\n",
              "      <td>0</td>\n",
              "      <td>0</td>\n",
              "      <td>0</td>\n",
              "      <td>0</td>\n",
              "      <td>0</td>\n",
              "      <td>0</td>\n",
              "      <td>0</td>\n",
              "      <td>0</td>\n",
              "      <td>0</td>\n",
              "      <td>0</td>\n",
              "      <td>0</td>\n",
              "    </tr>\n",
              "    <tr>\n",
              "      <th>4</th>\n",
              "      <td>1</td>\n",
              "      <td>1</td>\n",
              "      <td>0</td>\n",
              "      <td>0</td>\n",
              "      <td>0</td>\n",
              "      <td>0</td>\n",
              "      <td>0</td>\n",
              "      <td>0</td>\n",
              "      <td>0</td>\n",
              "      <td>1</td>\n",
              "      <td>1</td>\n",
              "      <td>1</td>\n",
              "      <td>1</td>\n",
              "      <td>0</td>\n",
              "      <td>1</td>\n",
              "      <td>1</td>\n",
              "      <td>0</td>\n",
              "      <td>0</td>\n",
              "      <td>1</td>\n",
              "      <td>1</td>\n",
              "      <td>1</td>\n",
              "      <td>0</td>\n",
              "      <td>0</td>\n",
              "      <td>0</td>\n",
              "      <td>0</td>\n",
              "      <td>0</td>\n",
              "      <td>0</td>\n",
              "      <td>0</td>\n",
              "      <td>0</td>\n",
              "      <td>0</td>\n",
              "      <td>0</td>\n",
              "      <td>0</td>\n",
              "      <td>0</td>\n",
              "      <td>1</td>\n",
              "      <td>0</td>\n",
              "      <td>0</td>\n",
              "      <td>0</td>\n",
              "      <td>0</td>\n",
              "      <td>0</td>\n",
              "      <td>0</td>\n",
              "      <td>...</td>\n",
              "      <td>0</td>\n",
              "      <td>0</td>\n",
              "      <td>0</td>\n",
              "      <td>0</td>\n",
              "      <td>0</td>\n",
              "      <td>0</td>\n",
              "      <td>0</td>\n",
              "      <td>0</td>\n",
              "      <td>0</td>\n",
              "      <td>0</td>\n",
              "      <td>0</td>\n",
              "      <td>0</td>\n",
              "      <td>0</td>\n",
              "      <td>0</td>\n",
              "      <td>0</td>\n",
              "      <td>0</td>\n",
              "      <td>0</td>\n",
              "      <td>0</td>\n",
              "      <td>0</td>\n",
              "      <td>0</td>\n",
              "      <td>0</td>\n",
              "      <td>0</td>\n",
              "      <td>0</td>\n",
              "      <td>0</td>\n",
              "      <td>0</td>\n",
              "      <td>0</td>\n",
              "      <td>0</td>\n",
              "      <td>0</td>\n",
              "      <td>0</td>\n",
              "      <td>0</td>\n",
              "      <td>0</td>\n",
              "      <td>0</td>\n",
              "      <td>0</td>\n",
              "      <td>0</td>\n",
              "      <td>0</td>\n",
              "      <td>0</td>\n",
              "      <td>0</td>\n",
              "      <td>0</td>\n",
              "      <td>0</td>\n",
              "      <td>0</td>\n",
              "    </tr>\n",
              "  </tbody>\n",
              "</table>\n",
              "<p>5 rows × 881 columns</p>\n",
              "</div>"
            ],
            "text/plain": [
              "   PubchemFP0  PubchemFP1  PubchemFP2  ...  PubchemFP878  PubchemFP879  PubchemFP880\n",
              "0           1           1           0  ...             0             0             0\n",
              "1           1           1           0  ...             0             0             0\n",
              "2           1           1           0  ...             0             0             0\n",
              "3           1           1           0  ...             0             0             0\n",
              "4           1           1           0  ...             0             0             0\n",
              "\n",
              "[5 rows x 881 columns]"
            ]
          },
          "metadata": {
            "tags": []
          },
          "execution_count": 59
        }
      ]
    },
    {
      "cell_type": "code",
      "metadata": {
        "id": "65_K7Qx80JGC",
        "outputId": "b3b0b0f8-a392-449c-9efc-e6fbb50871d3",
        "colab": {
          "base_uri": "https://localhost:8080/",
          "height": 235
        }
      },
      "source": [
        "data_Y = data_final['pIC50']\n",
        "data_Y"
      ],
      "execution_count": 60,
      "outputs": [
        {
          "output_type": "execute_result",
          "data": {
            "text/plain": [
              "0      5.142668\n",
              "1      5.026872\n",
              "2      4.869666\n",
              "3      4.882397\n",
              "4      5.698970\n",
              "         ...   \n",
              "128    4.974694\n",
              "129    4.995679\n",
              "130    4.939302\n",
              "131    4.970616\n",
              "132    4.102923\n",
              "Name: pIC50, Length: 133, dtype: float64"
            ]
          },
          "metadata": {
            "tags": []
          },
          "execution_count": 60
        }
      ]
    },
    {
      "cell_type": "code",
      "metadata": {
        "id": "X0kIguoU0M2A",
        "outputId": "73166bef-5dab-48a4-b1b3-2939097b30c6",
        "colab": {
          "base_uri": "https://localhost:8080/",
          "height": 255
        }
      },
      "source": [
        "final_dataset = pd.concat([data_X,data_Y], axis=1)\n",
        "final_dataset.head()"
      ],
      "execution_count": 61,
      "outputs": [
        {
          "output_type": "execute_result",
          "data": {
            "text/html": [
              "<div>\n",
              "<style scoped>\n",
              "    .dataframe tbody tr th:only-of-type {\n",
              "        vertical-align: middle;\n",
              "    }\n",
              "\n",
              "    .dataframe tbody tr th {\n",
              "        vertical-align: top;\n",
              "    }\n",
              "\n",
              "    .dataframe thead th {\n",
              "        text-align: right;\n",
              "    }\n",
              "</style>\n",
              "<table border=\"1\" class=\"dataframe\">\n",
              "  <thead>\n",
              "    <tr style=\"text-align: right;\">\n",
              "      <th></th>\n",
              "      <th>PubchemFP0</th>\n",
              "      <th>PubchemFP1</th>\n",
              "      <th>PubchemFP2</th>\n",
              "      <th>PubchemFP3</th>\n",
              "      <th>PubchemFP4</th>\n",
              "      <th>PubchemFP5</th>\n",
              "      <th>PubchemFP6</th>\n",
              "      <th>PubchemFP7</th>\n",
              "      <th>PubchemFP8</th>\n",
              "      <th>PubchemFP9</th>\n",
              "      <th>PubchemFP10</th>\n",
              "      <th>PubchemFP11</th>\n",
              "      <th>PubchemFP12</th>\n",
              "      <th>PubchemFP13</th>\n",
              "      <th>PubchemFP14</th>\n",
              "      <th>PubchemFP15</th>\n",
              "      <th>PubchemFP16</th>\n",
              "      <th>PubchemFP17</th>\n",
              "      <th>PubchemFP18</th>\n",
              "      <th>PubchemFP19</th>\n",
              "      <th>PubchemFP20</th>\n",
              "      <th>PubchemFP21</th>\n",
              "      <th>PubchemFP22</th>\n",
              "      <th>PubchemFP23</th>\n",
              "      <th>PubchemFP24</th>\n",
              "      <th>PubchemFP25</th>\n",
              "      <th>PubchemFP26</th>\n",
              "      <th>PubchemFP27</th>\n",
              "      <th>PubchemFP28</th>\n",
              "      <th>PubchemFP29</th>\n",
              "      <th>PubchemFP30</th>\n",
              "      <th>PubchemFP31</th>\n",
              "      <th>PubchemFP32</th>\n",
              "      <th>PubchemFP33</th>\n",
              "      <th>PubchemFP34</th>\n",
              "      <th>PubchemFP35</th>\n",
              "      <th>PubchemFP36</th>\n",
              "      <th>PubchemFP37</th>\n",
              "      <th>PubchemFP38</th>\n",
              "      <th>PubchemFP39</th>\n",
              "      <th>...</th>\n",
              "      <th>PubchemFP842</th>\n",
              "      <th>PubchemFP843</th>\n",
              "      <th>PubchemFP844</th>\n",
              "      <th>PubchemFP845</th>\n",
              "      <th>PubchemFP846</th>\n",
              "      <th>PubchemFP847</th>\n",
              "      <th>PubchemFP848</th>\n",
              "      <th>PubchemFP849</th>\n",
              "      <th>PubchemFP850</th>\n",
              "      <th>PubchemFP851</th>\n",
              "      <th>PubchemFP852</th>\n",
              "      <th>PubchemFP853</th>\n",
              "      <th>PubchemFP854</th>\n",
              "      <th>PubchemFP855</th>\n",
              "      <th>PubchemFP856</th>\n",
              "      <th>PubchemFP857</th>\n",
              "      <th>PubchemFP858</th>\n",
              "      <th>PubchemFP859</th>\n",
              "      <th>PubchemFP860</th>\n",
              "      <th>PubchemFP861</th>\n",
              "      <th>PubchemFP862</th>\n",
              "      <th>PubchemFP863</th>\n",
              "      <th>PubchemFP864</th>\n",
              "      <th>PubchemFP865</th>\n",
              "      <th>PubchemFP866</th>\n",
              "      <th>PubchemFP867</th>\n",
              "      <th>PubchemFP868</th>\n",
              "      <th>PubchemFP869</th>\n",
              "      <th>PubchemFP870</th>\n",
              "      <th>PubchemFP871</th>\n",
              "      <th>PubchemFP872</th>\n",
              "      <th>PubchemFP873</th>\n",
              "      <th>PubchemFP874</th>\n",
              "      <th>PubchemFP875</th>\n",
              "      <th>PubchemFP876</th>\n",
              "      <th>PubchemFP877</th>\n",
              "      <th>PubchemFP878</th>\n",
              "      <th>PubchemFP879</th>\n",
              "      <th>PubchemFP880</th>\n",
              "      <th>pIC50</th>\n",
              "    </tr>\n",
              "  </thead>\n",
              "  <tbody>\n",
              "    <tr>\n",
              "      <th>0</th>\n",
              "      <td>1</td>\n",
              "      <td>1</td>\n",
              "      <td>0</td>\n",
              "      <td>0</td>\n",
              "      <td>0</td>\n",
              "      <td>0</td>\n",
              "      <td>0</td>\n",
              "      <td>0</td>\n",
              "      <td>0</td>\n",
              "      <td>1</td>\n",
              "      <td>1</td>\n",
              "      <td>1</td>\n",
              "      <td>0</td>\n",
              "      <td>0</td>\n",
              "      <td>1</td>\n",
              "      <td>0</td>\n",
              "      <td>0</td>\n",
              "      <td>0</td>\n",
              "      <td>1</td>\n",
              "      <td>1</td>\n",
              "      <td>0</td>\n",
              "      <td>0</td>\n",
              "      <td>0</td>\n",
              "      <td>1</td>\n",
              "      <td>0</td>\n",
              "      <td>0</td>\n",
              "      <td>0</td>\n",
              "      <td>0</td>\n",
              "      <td>0</td>\n",
              "      <td>0</td>\n",
              "      <td>0</td>\n",
              "      <td>0</td>\n",
              "      <td>0</td>\n",
              "      <td>0</td>\n",
              "      <td>0</td>\n",
              "      <td>0</td>\n",
              "      <td>0</td>\n",
              "      <td>1</td>\n",
              "      <td>0</td>\n",
              "      <td>0</td>\n",
              "      <td>...</td>\n",
              "      <td>0</td>\n",
              "      <td>0</td>\n",
              "      <td>0</td>\n",
              "      <td>0</td>\n",
              "      <td>0</td>\n",
              "      <td>0</td>\n",
              "      <td>0</td>\n",
              "      <td>0</td>\n",
              "      <td>0</td>\n",
              "      <td>0</td>\n",
              "      <td>0</td>\n",
              "      <td>0</td>\n",
              "      <td>0</td>\n",
              "      <td>0</td>\n",
              "      <td>0</td>\n",
              "      <td>0</td>\n",
              "      <td>0</td>\n",
              "      <td>0</td>\n",
              "      <td>0</td>\n",
              "      <td>0</td>\n",
              "      <td>0</td>\n",
              "      <td>0</td>\n",
              "      <td>0</td>\n",
              "      <td>0</td>\n",
              "      <td>0</td>\n",
              "      <td>0</td>\n",
              "      <td>0</td>\n",
              "      <td>0</td>\n",
              "      <td>0</td>\n",
              "      <td>0</td>\n",
              "      <td>0</td>\n",
              "      <td>0</td>\n",
              "      <td>0</td>\n",
              "      <td>0</td>\n",
              "      <td>0</td>\n",
              "      <td>0</td>\n",
              "      <td>0</td>\n",
              "      <td>0</td>\n",
              "      <td>0</td>\n",
              "      <td>5.142668</td>\n",
              "    </tr>\n",
              "    <tr>\n",
              "      <th>1</th>\n",
              "      <td>1</td>\n",
              "      <td>1</td>\n",
              "      <td>0</td>\n",
              "      <td>0</td>\n",
              "      <td>0</td>\n",
              "      <td>0</td>\n",
              "      <td>0</td>\n",
              "      <td>0</td>\n",
              "      <td>0</td>\n",
              "      <td>1</td>\n",
              "      <td>1</td>\n",
              "      <td>1</td>\n",
              "      <td>0</td>\n",
              "      <td>0</td>\n",
              "      <td>1</td>\n",
              "      <td>1</td>\n",
              "      <td>0</td>\n",
              "      <td>0</td>\n",
              "      <td>1</td>\n",
              "      <td>1</td>\n",
              "      <td>0</td>\n",
              "      <td>0</td>\n",
              "      <td>0</td>\n",
              "      <td>0</td>\n",
              "      <td>0</td>\n",
              "      <td>0</td>\n",
              "      <td>0</td>\n",
              "      <td>0</td>\n",
              "      <td>0</td>\n",
              "      <td>0</td>\n",
              "      <td>0</td>\n",
              "      <td>0</td>\n",
              "      <td>0</td>\n",
              "      <td>0</td>\n",
              "      <td>0</td>\n",
              "      <td>0</td>\n",
              "      <td>0</td>\n",
              "      <td>0</td>\n",
              "      <td>0</td>\n",
              "      <td>0</td>\n",
              "      <td>...</td>\n",
              "      <td>0</td>\n",
              "      <td>0</td>\n",
              "      <td>0</td>\n",
              "      <td>0</td>\n",
              "      <td>0</td>\n",
              "      <td>0</td>\n",
              "      <td>0</td>\n",
              "      <td>0</td>\n",
              "      <td>0</td>\n",
              "      <td>0</td>\n",
              "      <td>0</td>\n",
              "      <td>0</td>\n",
              "      <td>0</td>\n",
              "      <td>0</td>\n",
              "      <td>0</td>\n",
              "      <td>0</td>\n",
              "      <td>0</td>\n",
              "      <td>0</td>\n",
              "      <td>0</td>\n",
              "      <td>0</td>\n",
              "      <td>0</td>\n",
              "      <td>0</td>\n",
              "      <td>0</td>\n",
              "      <td>0</td>\n",
              "      <td>0</td>\n",
              "      <td>0</td>\n",
              "      <td>0</td>\n",
              "      <td>0</td>\n",
              "      <td>0</td>\n",
              "      <td>0</td>\n",
              "      <td>0</td>\n",
              "      <td>0</td>\n",
              "      <td>0</td>\n",
              "      <td>0</td>\n",
              "      <td>0</td>\n",
              "      <td>0</td>\n",
              "      <td>0</td>\n",
              "      <td>0</td>\n",
              "      <td>0</td>\n",
              "      <td>5.026872</td>\n",
              "    </tr>\n",
              "    <tr>\n",
              "      <th>2</th>\n",
              "      <td>1</td>\n",
              "      <td>1</td>\n",
              "      <td>0</td>\n",
              "      <td>0</td>\n",
              "      <td>0</td>\n",
              "      <td>0</td>\n",
              "      <td>0</td>\n",
              "      <td>0</td>\n",
              "      <td>0</td>\n",
              "      <td>1</td>\n",
              "      <td>1</td>\n",
              "      <td>1</td>\n",
              "      <td>1</td>\n",
              "      <td>0</td>\n",
              "      <td>1</td>\n",
              "      <td>0</td>\n",
              "      <td>0</td>\n",
              "      <td>0</td>\n",
              "      <td>1</td>\n",
              "      <td>1</td>\n",
              "      <td>1</td>\n",
              "      <td>0</td>\n",
              "      <td>0</td>\n",
              "      <td>0</td>\n",
              "      <td>0</td>\n",
              "      <td>0</td>\n",
              "      <td>0</td>\n",
              "      <td>0</td>\n",
              "      <td>0</td>\n",
              "      <td>0</td>\n",
              "      <td>0</td>\n",
              "      <td>0</td>\n",
              "      <td>0</td>\n",
              "      <td>0</td>\n",
              "      <td>0</td>\n",
              "      <td>0</td>\n",
              "      <td>0</td>\n",
              "      <td>0</td>\n",
              "      <td>0</td>\n",
              "      <td>0</td>\n",
              "      <td>...</td>\n",
              "      <td>0</td>\n",
              "      <td>0</td>\n",
              "      <td>0</td>\n",
              "      <td>0</td>\n",
              "      <td>0</td>\n",
              "      <td>0</td>\n",
              "      <td>0</td>\n",
              "      <td>0</td>\n",
              "      <td>0</td>\n",
              "      <td>0</td>\n",
              "      <td>0</td>\n",
              "      <td>0</td>\n",
              "      <td>0</td>\n",
              "      <td>0</td>\n",
              "      <td>0</td>\n",
              "      <td>0</td>\n",
              "      <td>0</td>\n",
              "      <td>0</td>\n",
              "      <td>0</td>\n",
              "      <td>0</td>\n",
              "      <td>0</td>\n",
              "      <td>0</td>\n",
              "      <td>0</td>\n",
              "      <td>0</td>\n",
              "      <td>0</td>\n",
              "      <td>0</td>\n",
              "      <td>0</td>\n",
              "      <td>0</td>\n",
              "      <td>0</td>\n",
              "      <td>0</td>\n",
              "      <td>0</td>\n",
              "      <td>0</td>\n",
              "      <td>0</td>\n",
              "      <td>0</td>\n",
              "      <td>0</td>\n",
              "      <td>0</td>\n",
              "      <td>0</td>\n",
              "      <td>0</td>\n",
              "      <td>0</td>\n",
              "      <td>4.869666</td>\n",
              "    </tr>\n",
              "    <tr>\n",
              "      <th>3</th>\n",
              "      <td>1</td>\n",
              "      <td>1</td>\n",
              "      <td>0</td>\n",
              "      <td>0</td>\n",
              "      <td>0</td>\n",
              "      <td>0</td>\n",
              "      <td>0</td>\n",
              "      <td>0</td>\n",
              "      <td>0</td>\n",
              "      <td>1</td>\n",
              "      <td>1</td>\n",
              "      <td>1</td>\n",
              "      <td>1</td>\n",
              "      <td>0</td>\n",
              "      <td>1</td>\n",
              "      <td>0</td>\n",
              "      <td>0</td>\n",
              "      <td>0</td>\n",
              "      <td>1</td>\n",
              "      <td>1</td>\n",
              "      <td>0</td>\n",
              "      <td>0</td>\n",
              "      <td>0</td>\n",
              "      <td>0</td>\n",
              "      <td>0</td>\n",
              "      <td>0</td>\n",
              "      <td>0</td>\n",
              "      <td>0</td>\n",
              "      <td>0</td>\n",
              "      <td>0</td>\n",
              "      <td>0</td>\n",
              "      <td>0</td>\n",
              "      <td>0</td>\n",
              "      <td>1</td>\n",
              "      <td>0</td>\n",
              "      <td>0</td>\n",
              "      <td>0</td>\n",
              "      <td>0</td>\n",
              "      <td>0</td>\n",
              "      <td>0</td>\n",
              "      <td>...</td>\n",
              "      <td>0</td>\n",
              "      <td>0</td>\n",
              "      <td>0</td>\n",
              "      <td>0</td>\n",
              "      <td>0</td>\n",
              "      <td>0</td>\n",
              "      <td>0</td>\n",
              "      <td>0</td>\n",
              "      <td>0</td>\n",
              "      <td>0</td>\n",
              "      <td>0</td>\n",
              "      <td>0</td>\n",
              "      <td>0</td>\n",
              "      <td>0</td>\n",
              "      <td>0</td>\n",
              "      <td>0</td>\n",
              "      <td>0</td>\n",
              "      <td>0</td>\n",
              "      <td>0</td>\n",
              "      <td>0</td>\n",
              "      <td>0</td>\n",
              "      <td>0</td>\n",
              "      <td>0</td>\n",
              "      <td>0</td>\n",
              "      <td>0</td>\n",
              "      <td>0</td>\n",
              "      <td>0</td>\n",
              "      <td>0</td>\n",
              "      <td>0</td>\n",
              "      <td>0</td>\n",
              "      <td>0</td>\n",
              "      <td>0</td>\n",
              "      <td>0</td>\n",
              "      <td>0</td>\n",
              "      <td>0</td>\n",
              "      <td>0</td>\n",
              "      <td>0</td>\n",
              "      <td>0</td>\n",
              "      <td>0</td>\n",
              "      <td>4.882397</td>\n",
              "    </tr>\n",
              "    <tr>\n",
              "      <th>4</th>\n",
              "      <td>1</td>\n",
              "      <td>1</td>\n",
              "      <td>0</td>\n",
              "      <td>0</td>\n",
              "      <td>0</td>\n",
              "      <td>0</td>\n",
              "      <td>0</td>\n",
              "      <td>0</td>\n",
              "      <td>0</td>\n",
              "      <td>1</td>\n",
              "      <td>1</td>\n",
              "      <td>1</td>\n",
              "      <td>1</td>\n",
              "      <td>0</td>\n",
              "      <td>1</td>\n",
              "      <td>1</td>\n",
              "      <td>0</td>\n",
              "      <td>0</td>\n",
              "      <td>1</td>\n",
              "      <td>1</td>\n",
              "      <td>1</td>\n",
              "      <td>0</td>\n",
              "      <td>0</td>\n",
              "      <td>0</td>\n",
              "      <td>0</td>\n",
              "      <td>0</td>\n",
              "      <td>0</td>\n",
              "      <td>0</td>\n",
              "      <td>0</td>\n",
              "      <td>0</td>\n",
              "      <td>0</td>\n",
              "      <td>0</td>\n",
              "      <td>0</td>\n",
              "      <td>1</td>\n",
              "      <td>0</td>\n",
              "      <td>0</td>\n",
              "      <td>0</td>\n",
              "      <td>0</td>\n",
              "      <td>0</td>\n",
              "      <td>0</td>\n",
              "      <td>...</td>\n",
              "      <td>0</td>\n",
              "      <td>0</td>\n",
              "      <td>0</td>\n",
              "      <td>0</td>\n",
              "      <td>0</td>\n",
              "      <td>0</td>\n",
              "      <td>0</td>\n",
              "      <td>0</td>\n",
              "      <td>0</td>\n",
              "      <td>0</td>\n",
              "      <td>0</td>\n",
              "      <td>0</td>\n",
              "      <td>0</td>\n",
              "      <td>0</td>\n",
              "      <td>0</td>\n",
              "      <td>0</td>\n",
              "      <td>0</td>\n",
              "      <td>0</td>\n",
              "      <td>0</td>\n",
              "      <td>0</td>\n",
              "      <td>0</td>\n",
              "      <td>0</td>\n",
              "      <td>0</td>\n",
              "      <td>0</td>\n",
              "      <td>0</td>\n",
              "      <td>0</td>\n",
              "      <td>0</td>\n",
              "      <td>0</td>\n",
              "      <td>0</td>\n",
              "      <td>0</td>\n",
              "      <td>0</td>\n",
              "      <td>0</td>\n",
              "      <td>0</td>\n",
              "      <td>0</td>\n",
              "      <td>0</td>\n",
              "      <td>0</td>\n",
              "      <td>0</td>\n",
              "      <td>0</td>\n",
              "      <td>0</td>\n",
              "      <td>5.698970</td>\n",
              "    </tr>\n",
              "  </tbody>\n",
              "</table>\n",
              "<p>5 rows × 882 columns</p>\n",
              "</div>"
            ],
            "text/plain": [
              "   PubchemFP0  PubchemFP1  PubchemFP2  ...  PubchemFP879  PubchemFP880     pIC50\n",
              "0           1           1           0  ...             0             0  5.142668\n",
              "1           1           1           0  ...             0             0  5.026872\n",
              "2           1           1           0  ...             0             0  4.869666\n",
              "3           1           1           0  ...             0             0  4.882397\n",
              "4           1           1           0  ...             0             0  5.698970\n",
              "\n",
              "[5 rows x 882 columns]"
            ]
          },
          "metadata": {
            "tags": []
          },
          "execution_count": 61
        }
      ]
    },
    {
      "cell_type": "code",
      "metadata": {
        "id": "aKCPCtT_04uV"
      },
      "source": [
        "final_dataset.to_csv('Final_dataset.csv', index=False)"
      ],
      "execution_count": 62,
      "outputs": []
    },
    {
      "cell_type": "markdown",
      "metadata": {
        "id": "o0ZloDEzJqF1"
      },
      "source": [
        "## Training Model\n",
        "Now we have our cleaned and preprocessed data. So we will train few models and use the best performing one."
      ]
    },
    {
      "cell_type": "markdown",
      "metadata": {
        "id": "D6q7S5HF1Qk8"
      },
      "source": [
        "Input and output features"
      ]
    },
    {
      "cell_type": "code",
      "metadata": {
        "id": "J4Z3jw60RyS_",
        "outputId": "a55b272f-2197-431d-a291-ac7ee1977fa6",
        "colab": {
          "base_uri": "https://localhost:8080/",
          "height": 35
        }
      },
      "source": [
        "X,Y = data_X, data_Y\n",
        "X.shape, Y.shape"
      ],
      "execution_count": 63,
      "outputs": [
        {
          "output_type": "execute_result",
          "data": {
            "text/plain": [
              "((133, 881), (133,))"
            ]
          },
          "metadata": {
            "tags": []
          },
          "execution_count": 63
        }
      ]
    },
    {
      "cell_type": "code",
      "metadata": {
        "id": "n22J6Eg10xY3"
      },
      "source": [
        "from sklearn.model_selection import train_test_split\n",
        "from sklearn import linear_model, svm\n",
        "from sklearn.ensemble import RandomForestRegressor "
      ],
      "execution_count": 64,
      "outputs": []
    },
    {
      "cell_type": "code",
      "metadata": {
        "id": "d_heDtk-1iIg",
        "outputId": "24218075-9820-4bf7-a3f8-d6b703e1f7b5",
        "colab": {
          "base_uri": "https://localhost:8080/",
          "height": 35
        }
      },
      "source": [
        "X_train, X_test, Y_train, Y_test = train_test_split(X, Y, test_size=0.2)\n",
        "X_train.shape, Y_train.shape, X_test.shape, Y_test.shape"
      ],
      "execution_count": 65,
      "outputs": [
        {
          "output_type": "execute_result",
          "data": {
            "text/plain": [
              "((106, 881), (106,), (27, 881), (27,))"
            ]
          },
          "metadata": {
            "tags": []
          },
          "execution_count": 65
        }
      ]
    },
    {
      "cell_type": "code",
      "metadata": {
        "id": "2n9i3-dC41Xe",
        "outputId": "6519b024-2a55-44d3-e489-2ba912a485bc",
        "colab": {
          "base_uri": "https://localhost:8080/",
          "height": 344
        }
      },
      "source": [
        "classifiers = [\n",
        "    svm.SVR(),\n",
        "    linear_model.SGDRegressor(),\n",
        "    linear_model.BayesianRidge(),\n",
        "    linear_model.LassoLars(),\n",
        "    linear_model.ARDRegression(),\n",
        "    linear_model.PassiveAggressiveRegressor(),\n",
        "    linear_model.TheilSenRegressor(),\n",
        "    linear_model.LinearRegression(),\n",
        "    RandomForestRegressor()]\n",
        "\n",
        "for item in classifiers:\n",
        "    #print(item,'\\n')\n",
        "    clf = item\n",
        "    clf.fit(X_train, Y_train)\n",
        "    #print(clf.predict(X_test),'\\n')\n",
        "    print(f\" r2 score of {str(item).split('(')[0]} is {clf.score(X_test, Y_test):.4} \\n\")"
      ],
      "execution_count": 66,
      "outputs": [
        {
          "output_type": "stream",
          "text": [
            " r2 score of SVR is 0.2464 \n",
            "\n",
            " r2 score of SGDRegressor is 0.1369 \n",
            "\n",
            " r2 score of BayesianRidge is 0.3175 \n",
            "\n",
            " r2 score of LassoLars is -0.06408 \n",
            "\n",
            " r2 score of ARDRegression is 0.0175 \n",
            "\n",
            " r2 score of PassiveAggressiveRegressor is -0.1793 \n",
            "\n",
            " r2 score of TheilSenRegressor is -0.6508 \n",
            "\n",
            " r2 score of LinearRegression is -2.684e+17 \n",
            "\n",
            " r2 score of RandomForestRegressor is 0.005313 \n",
            "\n"
          ],
          "name": "stdout"
        }
      ]
    },
    {
      "cell_type": "markdown",
      "metadata": {
        "id": "O0z287RtW6Wa"
      },
      "source": [
        "From above testing it is clear that [**BayesianRidge**](https://scikit-learn.org/stable/auto_examples/linear_model/plot_bayesian_ridge.html#bayesian-ridge-regression) method is having highest score, although it is also not good."
      ]
    },
    {
      "cell_type": "code",
      "metadata": {
        "id": "0f2n3_dv6AF0"
      },
      "source": [
        "clf = linear_model.BayesianRidge()\n",
        "clf.fit(X_train,Y_train)\n",
        "Y_pred = clf.predict(X_test)"
      ],
      "execution_count": 67,
      "outputs": []
    },
    {
      "cell_type": "code",
      "metadata": {
        "id": "yVXeNjlg6SYh",
        "outputId": "31e79044-d773-43d5-e30b-ba9df5f02f19",
        "colab": {
          "base_uri": "https://localhost:8080/",
          "height": 419
        }
      },
      "source": [
        "sns.set(color_codes=True)\n",
        "sns.set_style(\"white\")\n",
        "\n",
        "ax = sns.regplot(Y_test, Y_pred, scatter_kws={'alpha':0.4})\n",
        "ax.set_xlabel('Experimental pIC50', fontsize='large', fontweight='bold')\n",
        "ax.set_ylabel('Predicted pIC50', fontsize='large', fontweight='bold')\n",
        "ax.set_xlim(0, 12)\n",
        "ax.set_ylim(0, 12)\n",
        "ax.figure.set_size_inches(5, 5)\n",
        "plt.show"
      ],
      "execution_count": 68,
      "outputs": [
        {
          "output_type": "stream",
          "text": [
            "/usr/local/lib/python3.6/dist-packages/seaborn/_decorators.py:43: FutureWarning: Pass the following variables as keyword args: x, y. From version 0.12, the only valid positional argument will be `data`, and passing other arguments without an explicit keyword will result in an error or misinterpretation.\n",
            "  FutureWarning\n"
          ],
          "name": "stderr"
        },
        {
          "output_type": "execute_result",
          "data": {
            "text/plain": [
              "<function matplotlib.pyplot.show>"
            ]
          },
          "metadata": {
            "tags": []
          },
          "execution_count": 68
        },
        {
          "output_type": "display_data",
          "data": {
            "image/png": "[encoded data removed]",
            "text/plain": [
              "<Figure size 360x360 with 1 Axes>"
            ]
          },
          "metadata": {
            "tags": []
          }
        }
      ]
    },
    {
      "cell_type": "markdown",
      "metadata": {
        "id": "tMUXbCVtZ0Vg"
      },
      "source": [
        "I have checked descriptors using rdkit also which gives less rscore as compared to using bash file provided by data prof."
      ]
    }
  ]
}
